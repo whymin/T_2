{
 "cells": [
  {
   "cell_type": "code",
   "execution_count": 19,
   "id": "de9c54c1",
   "metadata": {},
   "outputs": [],
   "source": [
    "import pandas as pd\n",
    "import numpy as np\n",
    "from sklearn.ensemble import RandomForestRegressor\n",
    "from rdkit.Chem import MACCSkeys\n",
    "from rdkit import Chem\n",
    "from rdkit import DataStructs\n",
    "import matplotlib.pyplot as plt\n",
    "#from sklearn.metrics import mean_absolute_error as MAE\n",
    "from sklearn.metrics import r2_score as r2\n",
    "from sklearn.metrics import mean_squared_error as mse\n",
    "import math\n",
    "import xgboost as xgb\n",
    "from sklearn.ensemble import GradientBoostingRegressor\n",
    "import keras\n",
    "from keras.callbacks import EarlyStopping\n",
    "import sys"
   ]
  },
  {
   "cell_type": "code",
   "execution_count": 14,
   "id": "bc5ea2ad",
   "metadata": {},
   "outputs": [],
   "source": [
    "train_data=pd.read_csv('t_2_train.csv')\n",
    "test_data=pd.read_csv('t_2_test.csv')"
   ]
  },
  {
   "cell_type": "code",
   "execution_count": 15,
   "id": "98612547",
   "metadata": {},
   "outputs": [
    {
     "data": {
      "text/html": [
       "<div>\n",
       "<style scoped>\n",
       "    .dataframe tbody tr th:only-of-type {\n",
       "        vertical-align: middle;\n",
       "    }\n",
       "\n",
       "    .dataframe tbody tr th {\n",
       "        vertical-align: top;\n",
       "    }\n",
       "\n",
       "    .dataframe thead th {\n",
       "        text-align: right;\n",
       "    }\n",
       "</style>\n",
       "<table border=\"1\" class=\"dataframe\">\n",
       "  <thead>\n",
       "    <tr style=\"text-align: right;\">\n",
       "      <th></th>\n",
       "      <th>SMILES</th>\n",
       "      <th>terminal  t1/2 (h)</th>\n",
       "      <th>label</th>\n",
       "    </tr>\n",
       "  </thead>\n",
       "  <tbody>\n",
       "    <tr>\n",
       "      <th>0</th>\n",
       "      <td>[Gd+3].COCCNC(=O)CN(CCN(CCN(CC([O-])=O)CC(=O)N...</td>\n",
       "      <td>1.46</td>\n",
       "      <td>0</td>\n",
       "    </tr>\n",
       "    <tr>\n",
       "      <th>1</th>\n",
       "      <td>COc1ccc2CN(C)CC[C@@]34C=C[C@H](O)C[C@@H]3Oc1c24</td>\n",
       "      <td>5.30</td>\n",
       "      <td>1</td>\n",
       "    </tr>\n",
       "    <tr>\n",
       "      <th>2</th>\n",
       "      <td>C[C@H](\\C=C\\[C@H](C)C(C)(C)O)[C@H]1CC[C@H]2\\C(...</td>\n",
       "      <td>5.30</td>\n",
       "      <td>1</td>\n",
       "    </tr>\n",
       "    <tr>\n",
       "      <th>3</th>\n",
       "      <td>c1(n(c2c(C(=O)c3ccccc3C2=O)[n+]1Cc1cnccn1)CCOC)C</td>\n",
       "      <td>24.80</td>\n",
       "      <td>1</td>\n",
       "    </tr>\n",
       "    <tr>\n",
       "      <th>4</th>\n",
       "      <td>COC(=O)[C@H](c1ccccc1Cl)N2CCc3c(ccs3)C2</td>\n",
       "      <td>5.06</td>\n",
       "      <td>1</td>\n",
       "    </tr>\n",
       "    <tr>\n",
       "      <th>...</th>\n",
       "      <td>...</td>\n",
       "      <td>...</td>\n",
       "      <td>...</td>\n",
       "    </tr>\n",
       "    <tr>\n",
       "      <th>1061</th>\n",
       "      <td>CC(C)[C@@H](CC[C@@H](C)[C@H]1CC[C@H]2[C@@H]3[C...</td>\n",
       "      <td>9.50</td>\n",
       "      <td>1</td>\n",
       "    </tr>\n",
       "    <tr>\n",
       "      <th>1062</th>\n",
       "      <td>CC1=C(C=C(C#N)C(=O)N1)c2ccncc2</td>\n",
       "      <td>0.80</td>\n",
       "      <td>0</td>\n",
       "    </tr>\n",
       "    <tr>\n",
       "      <th>1063</th>\n",
       "      <td>c1ccc(cc1)CC[C@H](N[C@@H]1C(N2[C@@H](CCC[N@@]2...</td>\n",
       "      <td>50.60</td>\n",
       "      <td>1</td>\n",
       "    </tr>\n",
       "    <tr>\n",
       "      <th>1064</th>\n",
       "      <td>c1cc(ccc1O)[C@@H](CN(C)C)C1(CCCCC1)O</td>\n",
       "      <td>8.40</td>\n",
       "      <td>1</td>\n",
       "    </tr>\n",
       "    <tr>\n",
       "      <th>1065</th>\n",
       "      <td>ClCCN(CCCl)P1(=O)NCCCO1</td>\n",
       "      <td>8.00</td>\n",
       "      <td>1</td>\n",
       "    </tr>\n",
       "  </tbody>\n",
       "</table>\n",
       "<p>1066 rows × 3 columns</p>\n",
       "</div>"
      ],
      "text/plain": [
       "                                                 SMILES  terminal  t1/2 (h)  \\\n",
       "0     [Gd+3].COCCNC(=O)CN(CCN(CCN(CC([O-])=O)CC(=O)N...                1.46   \n",
       "1       COc1ccc2CN(C)CC[C@@]34C=C[C@H](O)C[C@@H]3Oc1c24                5.30   \n",
       "2     C[C@H](\\C=C\\[C@H](C)C(C)(C)O)[C@H]1CC[C@H]2\\C(...                5.30   \n",
       "3      c1(n(c2c(C(=O)c3ccccc3C2=O)[n+]1Cc1cnccn1)CCOC)C               24.80   \n",
       "4               COC(=O)[C@H](c1ccccc1Cl)N2CCc3c(ccs3)C2                5.06   \n",
       "...                                                 ...                 ...   \n",
       "1061  CC(C)[C@@H](CC[C@@H](C)[C@H]1CC[C@H]2[C@@H]3[C...                9.50   \n",
       "1062                     CC1=C(C=C(C#N)C(=O)N1)c2ccncc2                0.80   \n",
       "1063  c1ccc(cc1)CC[C@H](N[C@@H]1C(N2[C@@H](CCC[N@@]2...               50.60   \n",
       "1064               c1cc(ccc1O)[C@@H](CN(C)C)C1(CCCCC1)O                8.40   \n",
       "1065                            ClCCN(CCCl)P1(=O)NCCCO1                8.00   \n",
       "\n",
       "      label  \n",
       "0         0  \n",
       "1         1  \n",
       "2         1  \n",
       "3         1  \n",
       "4         1  \n",
       "...     ...  \n",
       "1061      1  \n",
       "1062      0  \n",
       "1063      1  \n",
       "1064      1  \n",
       "1065      1  \n",
       "\n",
       "[1066 rows x 3 columns]"
      ]
     },
     "execution_count": 15,
     "metadata": {},
     "output_type": "execute_result"
    }
   ],
   "source": [
    "train_data"
   ]
  },
  {
   "cell_type": "code",
   "execution_count": 16,
   "id": "dd13f03c",
   "metadata": {},
   "outputs": [],
   "source": [
    "from rdkit.Chem import MACCSkeys\n",
    "from rdkit import Chem\n",
    "from rdkit.Chem import AllChem\n",
    "from rdkit import DataStructs\n",
    "def get_finger(smiles):\n",
    "    all_mols=[]\n",
    "    for smi in list(smiles):\n",
    "        m=Chem.MolFromSmiles(smi)\n",
    "        all_mols.append(m)\n",
    "    #all_fps=[Chem.RDKFingerprint(mol) for mol in all_mols]\n",
    "    all_fingerprints1 =[MACCSkeys.GenMACCSKeys(mol).ToBitString() for mol in all_mols]\n",
    "    all_fingerprints2 =[AllChem.GetMorganFingerprintAsBitVect(mol,2,nBits=1024).ToBitString() for mol in all_mols]\n",
    "    #all_fingerprints=all_fingerprints1+all_fingerprints2\n",
    "    #print(all_fingerprints)\n",
    "    x = []\n",
    "    for finger in all_fingerprints1:\n",
    "        x.append(np.fromiter(finger, dtype=int))\n",
    "    x = np.array(x)\n",
    "    \n",
    "    y = []\n",
    "    for finger in all_fingerprints2:\n",
    "        y.append(np.fromiter(finger, dtype=int))\n",
    "    y = np.array(y)\n",
    "    return x,y"
   ]
  },
  {
   "cell_type": "code",
   "execution_count": 25,
   "id": "c434c150",
   "metadata": {},
   "outputs": [],
   "source": [
    "train_smiles=list(train_data.iloc[:,0])\n",
    "train_labels1=list(train_data.iloc[:,1])\n",
    "test_smiles=list(test_data.iloc[:,0])\n",
    "test_labels1=list(test_data.iloc[:,1])"
   ]
  },
  {
   "cell_type": "code",
   "execution_count": 26,
   "id": "8f3f8c38",
   "metadata": {},
   "outputs": [],
   "source": [
    "import math\n",
    "train_labels=np.log10(train_labels1)\n",
    "test_labels=np.log10(test_labels1)"
   ]
  },
  {
   "cell_type": "code",
   "execution_count": 18,
   "id": "01b4e92c",
   "metadata": {},
   "outputs": [],
   "source": [
    "x_test1,x_test2=get_finger(test_smiles)\n",
    "x_train1,x_train2=get_finger(train_smiles)\n",
    "df1 = pd.DataFrame(x_train1)\n",
    "df2=pd.DataFrame(x_train2)\n",
    "df=pd.concat([df1,df2],axis=1)\n",
    "x_train=df.values#as_matrix()\n",
    "\n",
    "df1 = pd.DataFrame(x_test1)\n",
    "df2=pd.DataFrame(x_test2)\n",
    "df=pd.concat([df1,df2],axis=1)\n",
    "x_test=df.values"
   ]
  },
  {
   "cell_type": "code",
   "execution_count": 40,
   "id": "1f4d73e8",
   "metadata": {},
   "outputs": [
    {
     "data": {
      "text/plain": [
       "RandomForestRegressor()"
      ]
     },
     "execution_count": 40,
     "metadata": {},
     "output_type": "execute_result"
    }
   ],
   "source": [
    "rf1=RandomForestRegressor()\n",
    "rf1.fit(x_train,train_labels)\n"
   ]
  },
  {
   "cell_type": "code",
   "execution_count": 41,
   "id": "be8f6908",
   "metadata": {},
   "outputs": [],
   "source": [
    "pre_train=rf1.predict(x_train)\n",
    "pre_test=rf1.predict(x_test)"
   ]
  },
  {
   "cell_type": "code",
   "execution_count": 45,
   "id": "f02acc4f",
   "metadata": {},
   "outputs": [
    {
     "data": {
      "text/plain": [
       "Text(0, 0.5, 'real')"
      ]
     },
     "execution_count": 45,
     "metadata": {},
     "output_type": "execute_result"
    },
    {
     "data": {
      "image/png": "[encoded data removed]",
      "text/plain": [
       "<Figure size 720x504 with 1 Axes>"
      ]
     },
     "metadata": {
      "needs_background": "light"
     },
     "output_type": "display_data"
    }
   ],
   "source": [
    "plt.figure(figsize=(10,7))\n",
    "\n",
    "font2 = {'family' : 'Times New Roman',\n",
    "'weight' : 'bold',\n",
    "'size' : 45,\n",
    "}\n",
    "plt.scatter(pre_train,train_labels, alpha=.5, label='train')\n",
    "plt.scatter(test_labels,test_labels, alpha=.5, label='test1')\n",
    "#plt.scatter(newX3[:, 0], newX3[:, 1], alpha=.5, label='test2')\n",
    "plt.legend()\n",
    "plt.tick_params(labelsize=15)\n",
    "plt.legend(prop={'family' : 'Times NewRoman', 'size'   : 20})\n",
    "plt.xlabel('pre',fontsize=16)\n",
    "plt.ylabel('real',fontsize=16)\n",
    "#plt.show()"
   ]
  },
  {
   "cell_type": "code",
   "execution_count": 43,
   "id": "1052f71f",
   "metadata": {},
   "outputs": [
    {
     "data": {
      "text/plain": [
       "0.8978973102827863"
      ]
     },
     "execution_count": 43,
     "metadata": {},
     "output_type": "execute_result"
    }
   ],
   "source": [
    "r2(train_labels,pre_train)"
   ]
  },
  {
   "cell_type": "code",
   "execution_count": 44,
   "id": "a38ad805",
   "metadata": {},
   "outputs": [
    {
     "data": {
      "text/plain": [
       "0.2339795598075246"
      ]
     },
     "execution_count": 44,
     "metadata": {},
     "output_type": "execute_result"
    }
   ],
   "source": [
    "r2(test_labels,pre_test)"
   ]
  },
  {
   "cell_type": "code",
   "execution_count": null,
   "id": "e2474697",
   "metadata": {},
   "outputs": [],
   "source": [
    "np.sqrt(mean_squared_error(y_true,y_pred))\n"
   ]
  },
  {
   "cell_type": "code",
   "execution_count": null,
   "id": "05f707bd",
   "metadata": {},
   "outputs": [],
   "source": []
  },
  {
   "cell_type": "code",
   "execution_count": null,
   "id": "65569cbd",
   "metadata": {},
   "outputs": [],
   "source": []
  }
 ],
 "metadata": {
  "kernelspec": {
   "display_name": "Python 3",
   "language": "python",
   "name": "python3"
  },
  "language_info": {
   "codemirror_mode": {
    "name": "ipython",
    "version": 3
   },
   "file_extension": ".py",
   "mimetype": "text/x-python",
   "name": "python",
   "nbconvert_exporter": "python",
   "pygments_lexer": "ipython3",
   "version": "3.7.7"
  }
 },
 "nbformat": 4,
 "nbformat_minor": 5
}
