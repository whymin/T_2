{
 "cells": [
  {
   "cell_type": "code",
   "execution_count": 16,
   "id": "70678a12",
   "metadata": {},
   "outputs": [],
   "source": [
    "import pandas as pd\n",
    "import numpy as np"
   ]
  },
  {
   "cell_type": "code",
   "execution_count": 17,
   "id": "6b2e41cf",
   "metadata": {},
   "outputs": [
    {
     "data": {
      "text/plain": [
       "0       O([C@H]([C@H](NC(c1nc([C@@H](NC[C@@H](C(N)=O)N...\n",
       "1       c1(nc(cc2ccccc12)C(=O)N([C@@H](CC)C)C)c1c(cccc...\n",
       "2       [H]N([H])C([C@](CCN1CCCCC1)(CCN(C(C)C)C(C)=O)c...\n",
       "3              Cc1cc(c(cc1C(=O)NC(=N)N)S(=O)(=O)C)n2cccc2\n",
       "4                      CCCN(CCC)S(=O)(=O)c1ccc(cc1)C(=O)O\n",
       "                              ...                        \n",
       "1326    CC(C)[C@@H](CC[C@@H](C)[C@H]1CC[C@H]2[C@@H]3[C...\n",
       "1327                       CC1=C(C=C(C#N)C(=O)N1)c2ccncc2\n",
       "1328    c1ccc(cc1)CC[C@H](N[C@@H]1C(N2[C@@H](CCC[N@@]2...\n",
       "1329                 c1cc(ccc1O)[C@@H](CN(C)C)C1(CCCCC1)O\n",
       "1330                              ClCCN(CCCl)P1(=O)NCCCO1\n",
       "Name: SMILES, Length: 1331, dtype: object"
      ]
     },
     "execution_count": 17,
     "metadata": {},
     "output_type": "execute_result"
    }
   ],
   "source": [
    "f1=pd.read_csv('smiles_ll.xlsx')\n",
    "smiles1=f1.iloc[:,0]\n",
    "smiles1"
   ]
  },
  {
   "cell_type": "code",
   "execution_count": 18,
   "id": "80eb3e82",
   "metadata": {},
   "outputs": [],
   "source": [
    "f2=pd.read_excel('../../../Supplemental_82966_revised_corrected.xlsx')\n",
    "f2_smiles=f2.iloc[:,2]\n",
    "f2_names=f2.iloc[:,0]"
   ]
  },
  {
   "cell_type": "code",
   "execution_count": 26,
   "id": "78745dd9",
   "metadata": {},
   "outputs": [],
   "source": [
    "names=[]\n",
    "smiell=[]\n",
    "for smi in smiles1:\n",
    "    for i in range(len(f2_smiles)):\n",
    "        if f2_smiles[i]==smi:\n",
    "            names.append(f2_names[i])\n",
    "            smiell.append(smi)"
   ]
  },
  {
   "cell_type": "code",
   "execution_count": 29,
   "id": "e6616866",
   "metadata": {},
   "outputs": [
    {
     "data": {
      "text/plain": [
       "1320"
      ]
     },
     "execution_count": 29,
     "metadata": {},
     "output_type": "execute_result"
    }
   ],
   "source": [
    "len(smiell)"
   ]
  },
  {
   "cell_type": "code",
   "execution_count": 23,
   "id": "f7e58242",
   "metadata": {},
   "outputs": [
    {
     "data": {
      "text/plain": [
       "1320"
      ]
     },
     "execution_count": 23,
     "metadata": {},
     "output_type": "execute_result"
    }
   ],
   "source": [
    "len(names)"
   ]
  },
  {
   "cell_type": "code",
   "execution_count": 30,
   "id": "ab8b4a20",
   "metadata": {},
   "outputs": [],
   "source": [
    "dd=pd.DataFrame()\n",
    "dd['name']=names\n",
    "dd['smiell']=smiell\n",
    "dd.to_csv('names.csv')"
   ]
  },
  {
   "cell_type": "code",
   "execution_count": 20,
   "id": "3ad7aa44",
   "metadata": {},
   "outputs": [
    {
     "name": "stdout",
     "output_type": "stream",
     "text": [
      "CC(=O)Oc1ccc2c3c1O[C@@H]4[C@]35CC[N@@]([C@H](C2)[C@@H]5C=C[C@@H]4OC(=O)C)C\n",
      "N[C@@H]([C@H](O)C)C(=O)N[C@@H](CCCCN)C(=O)N[C@@H](Cc1ccccc1)C(=O)N[C@@H]([C@H](O)C)C(=O)N[C@@H](C(C(C)C))C(=O)N[C@@H](CO)C(=O)N[C@@H](C(C(C)C))C(=O)N[C@@H](CC(=O)O)C(=O)N[C@@H](C(C)C)C(=O)N1[C@@H](CCC1)C(=O)N[C@@H]([C@H](O)C)C(=O)N[C@@H](CC(=O)N)C(=O)N[C@@H]([C@@H](C)CC)C(=O)N[C@@H](CCSC)C(=O)N[C@@H](CC(=O)N)C(=O)N[C@@H](C(C(C)C))C(=O)N[C@@H](C(C(C)C))C(=O)N[C@@H](Cc1ccccc1)C(=O)N[C@@H](CC(=O)N)C(=O)N[C@@H]([C@@H](C)CC)C(=O)N[C@@H](C)C(=O)N[C@@H](CCCCN)C(=O)N[C@@H](C)C(=O)N[C@@H](CCCCN)C(=O)N[C@@H](CC(=O)N)C(=O)N[C@@H](C(C(C)C))C(=O)N[C@@H](CCCNC(=N)N)C(=O)N[C@@H](C)C(=O)N[C@@H](CCC(=O)N)C(=O)N[C@@H](C)C(=O)N[C@@H](C)C(=O)N[C@@H](C)C(=O)N[C@@H](CC(=O)N)C(=O)N[C@@H](C)C(=O)N[C@@H](Cc1c[nH]cn1)C(=O)N[C@@H](C(C(C)C))C(=O)N[C@@H](CCSC)C(=O)N[C@@H](C)C(=O)N[C@@H](CCC(=O)N)C(=O)N[C@@H]([C@@H](C)CC)C(=O)N\n",
      "C1CN(CCN1CCCCc1c[nH]c2c1cc(cc2)C#N)c1cc2c(cc1)oc(c2)C(=O)N\n",
      "C(=O)([C@@H](COC)NC(=O)C)NCc1ccccc1\n",
      "n1(c(cnc1C)[N+](=O)[O-])C[C@@H](CCl)O\n",
      "N1(C([C@@H](NC([C@@H](NC([C@@H](NC([C@@H](NC(=O)CCCC(C)C)C(C)C)=O)[C@H](O)C)=O)C(C)C)=O)C(C)C)=O)[C@@H](C(N[C@H](C(N[C@@H](C(N[C@@H]2C(N[C@@H](C(N[C@H](C(N[C@@H](Cc3ccccc3)C(N\\C(C(N[C@H](C(O[C@@H]2C)=O)C(C)C)=O)=C/C)=O)=O)C(C)C)=O)[C@H](CC)C)=O)=O)[C@H](CC)C)=O)CCCN)=O)CCC1\n",
      "N([C@@H](C(=O)N[C@H](C(N[C@H](C(N[C@@H](C(N[C@@H](C(=O)N[C@@H](C(N[C@H](C(N[C@H](C(=O)N1[C@H](C(N[C@@H](C(N)=O)C)=O)CCC1)CCCC\\N=C(\\NCC)NCC)=O)CC(C)C)=O)CCCC\\N=C(/NCC)NCC)Cc1ccc(cc1)O)=O)CO)=O)Cc1cccnc1)=O)Cc1ccc(cc1)Cl)Cc1ccc2c(c1)cccc2)C(=O)C\n",
      "[Cl-].[Cl-].O=[N+]C=C1C=CN(COCN2C=CC(=C[N+]=O)C=C2)C=C1\n",
      "C([C@@H](NC([C@@H](NC([C@@H](NC([C@@H](NC([C@@H](NC([C@@H](Cc1ccc(O)cc1)N)=O)C)=O)CC(O)=O)=O)C)=O)[C@@H](CC)C)=O)C(N[C@@H](C(N[C@@H](C(N[C@@H](C(N[C@@H](Cc1ccc(O)cc1)C(N[C@@H](C(N[C@@H](C(N[C@@H](C(N[C@@H](C(NCC(N[C@@H](C(N[C@@H](C(N[C@@H](C(N[C@@H](C(N[C@@H](C(N[C@@H](C(N[C@@H](C(N[C@@H](C(N[C@@H](C(N[C@@H](C(N[C@@H](C(N[C@@H](C(N[C@@H](C(N[C@@H](CCCNC(N)=N)C(N)=O)=O)CO)=O)CCSC)=O)[C@@H](CC)C)=O)CC(O)=O)=O)CCC(N)=O)=O)CC(C)C)=O)CC(C)C)=O)CCCCN)=O)CCCNC(N)=N)=O)C)=O)CO)=O)CC(C)C)=O)CCC(N)=O)=O)=O)CC(C)C)=O)C(C)C)=O)CCCCN)=O)CCCNC(N)=N)=O)=O)CO)=O)CC(N)=O)=O)[C@@H](C)O)=O)c1ccccc1\n",
      "S(=O)(=O)(O)OC[C@@H]1[C@H]([C@@H]([C@@H](NS(=O)(=O)O)[C@H](O1)OC)O)O[C@H]1[C@H](OS(=O)(=O)O)[C@H]([C@@H]([C@H](C(=O)O)O1)O[C@@H]1[C@H](NS(=O)(=O)O)[C@H]([C@@H]([C@H](O1)COS(=O)(=O)O)O[C@@H]1O[C@@H]([C@H]([C@@H]([C@H]1O)O)O[C@@H]1[C@@H]([C@H]([C@@H]([C@H](O1)COS(=O)(=O)O)O)O)NS(=O)(=O)O)C(=O)O)OS(=O)(=O)O)O\n",
      "s1cccc1[C@@H](Oc1cccc2c1cccc2)CCNC\n",
      "c1cn(c(n1)[N+](=O)[O-])CC(=O)NCC(C(F)(F)F)O\n",
      "C[C@@H](Cc1ccccc1)NC(=O)[C@H](CCCCN)N\n"
     ]
    }
   ],
   "source": [
    "for smi in smiles1:\n",
    "    TT=True\n",
    "    for i in range(len(f2_smiles)):\n",
    "        if f2_smiles[i]==smi:\n",
    "            TT=False\n",
    "    if TT:\n",
    "        print(smi)\n",
    "            "
   ]
  },
  {
   "cell_type": "code",
   "execution_count": null,
   "id": "df3550aa",
   "metadata": {},
   "outputs": [],
   "source": []
  }
 ],
 "metadata": {
  "kernelspec": {
   "display_name": "Python 3",
   "language": "python",
   "name": "python3"
  },
  "language_info": {
   "codemirror_mode": {
    "name": "ipython",
    "version": 3
   },
   "file_extension": ".py",
   "mimetype": "text/x-python",
   "name": "python",
   "nbconvert_exporter": "python",
   "pygments_lexer": "ipython3",
   "version": "3.7.7"
  }
 },
 "nbformat": 4,
 "nbformat_minor": 5
}
