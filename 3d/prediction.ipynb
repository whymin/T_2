{
 "cells": [
  {
   "cell_type": "code",
   "execution_count": 222,
   "id": "78c7b459",
   "metadata": {},
   "outputs": [],
   "source": [
    "import pandas as pd\n",
    "import numpy as np\n",
    "from sklearn.model_selection import train_test_split\n",
    "import pandas as pd\n",
    "import numpy as np\n",
    "from sklearn.ensemble import RandomForestClassifier\n",
    "from xgboost import XGBClassifier\n",
    "from sklearn.svm import LinearSVC\n",
    "from sklearn.svm import SVC\n",
    "from sklearn.ensemble import GradientBoostingClassifier\n",
    "from sklearn.metrics import roc_curve,auc\n",
    "from sklearn.metrics import confusion_matrix\n",
    "from sklearn.metrics import accuracy_score as ACC\n",
    "from sklearn.metrics import matthews_corrcoef as MCC\n",
    "from sklearn.metrics import roc_auc_score as AUC\n",
    "from sklearn.metrics import f1_score as F1\n",
    "from sklearn.model_selection import train_test_split\n",
    "def auc_roc(y_test1,pre):\n",
    "    pre=[p for p in pre[:,1]]\n",
    "    #print(pre)\n",
    "    fpr,tpr,threshold = roc_curve(y_test1,pre)###计算真正率和假正率\n",
    "    roc_auc = auc(fpr,tpr)\n",
    "    #print('roc_auc:%2f'%(roc_auc))\n",
    "    return roc_auc\n",
    "def analyze(pre,real):\n",
    "    AUC_test=auc_roc(real,pre)\n",
    "    pre=np.argmax(pre,axis=1)\n",
    "    #print(pre)\n",
    "    m=confusion_matrix(pre,real, labels=[0,1], sample_weight=None)\n",
    "    print(m)\n",
    "    tp, fp, fn, tn = m.ravel()\n",
    "    TPR=tp/(tp+fn)\n",
    "    TNR=tn/(tn+fp)\n",
    "    ACC_test=ACC(real,pre)\n",
    "    #AUC_test=auc_roc(real,pre)\n",
    "    MCC_test=MCC(real,pre)\n",
    "    F1_test=F1(real,pre)\n",
    "    print('敏感度TPR：%2f，特异度TNR：%2f，ACC：%2f，AUC：%2f,MCC：%2f,F1：%2f'%(TPR,TNR,ACC_test,AUC_test,MCC_test,F1_test))\n",
    "    return ACC_test\n",
    "import pickle\n",
    "def save_rfmodel(name,model):\n",
    "    model_name=name+'.pkl'\n",
    "    with open(model_name, 'ab') as f:\n",
    "        pickle.dump(model, f)\n",
    "def rfmodel_pre(model_name,x,y):\n",
    "    with open(model_name+'.pkl','rb') as md:\n",
    "        model=pickle.load(md)\n",
    "    pre=prediction(model,x,y)\n",
    "    return pre\n",
    "def prediction(model,x,y):\n",
    "    pre_x=model.predict_proba(x)\n",
    "    analyze(pre_x,y)\n",
    "    return pre_x"
   ]
  },
  {
   "cell_type": "code",
   "execution_count": 223,
   "id": "35b8d0d0",
   "metadata": {},
   "outputs": [
    {
     "data": {
      "text/plain": [
       "'python -m mordred smiles.mol -o all_finger.csv -3'"
      ]
     },
     "execution_count": 223,
     "metadata": {},
     "output_type": "execute_result"
    }
   ],
   "source": [
    "'python -m mordred smiles.mol -o all_finger.csv -3'\n"
   ]
  },
  {
   "cell_type": "code",
   "execution_count": 265,
   "id": "c8d1d9c0",
   "metadata": {},
   "outputs": [],
   "source": [
    "data=pd.read_csv('data_all.csv')\n",
    "data=data.replace(np.NaN, 0)\n",
    "\n",
    "x=np.array(data.iloc[:,:-1])\n",
    "\n",
    "y=np.array(data.iloc[:,-1])"
   ]
  },
  {
   "cell_type": "code",
   "execution_count": 225,
   "id": "ddab99e6",
   "metadata": {},
   "outputs": [
    {
     "data": {
      "text/html": [
       "<div>\n",
       "<style scoped>\n",
       "    .dataframe tbody tr th:only-of-type {\n",
       "        vertical-align: middle;\n",
       "    }\n",
       "\n",
       "    .dataframe tbody tr th {\n",
       "        vertical-align: top;\n",
       "    }\n",
       "\n",
       "    .dataframe thead th {\n",
       "        text-align: right;\n",
       "    }\n",
       "</style>\n",
       "<table border=\"1\" class=\"dataframe\">\n",
       "  <thead>\n",
       "    <tr style=\"text-align: right;\">\n",
       "      <th></th>\n",
       "      <th>SMILES</th>\n",
       "      <th>terminal  t1/2 (h)</th>\n",
       "      <th>label</th>\n",
       "    </tr>\n",
       "  </thead>\n",
       "  <tbody>\n",
       "    <tr>\n",
       "      <th>0</th>\n",
       "      <td>O([C@H]([C@H](NC(c1nc([C@@H](NC[C@@H](C(N)=O)N...</td>\n",
       "      <td>3.9</td>\n",
       "      <td>1</td>\n",
       "    </tr>\n",
       "    <tr>\n",
       "      <th>1</th>\n",
       "      <td>c1(nc(cc2ccccc12)C(=O)N([C@@H](CC)C)C)c1c(cccc...</td>\n",
       "      <td>3.7</td>\n",
       "      <td>1</td>\n",
       "    </tr>\n",
       "    <tr>\n",
       "      <th>2</th>\n",
       "      <td>[H]N([H])C([C@](CCN1CCCCC1)(CCN(C(C)C)C(C)=O)c...</td>\n",
       "      <td>12.0</td>\n",
       "      <td>1</td>\n",
       "    </tr>\n",
       "    <tr>\n",
       "      <th>3</th>\n",
       "      <td>Cc1cc(c(cc1C(=O)NC(=N)N)S(=O)(=O)C)n2cccc2</td>\n",
       "      <td>2.2</td>\n",
       "      <td>0</td>\n",
       "    </tr>\n",
       "    <tr>\n",
       "      <th>4</th>\n",
       "      <td>CCCN(CCC)S(=O)(=O)c1ccc(cc1)C(=O)O</td>\n",
       "      <td>5.9</td>\n",
       "      <td>1</td>\n",
       "    </tr>\n",
       "    <tr>\n",
       "      <th>...</th>\n",
       "      <td>...</td>\n",
       "      <td>...</td>\n",
       "      <td>...</td>\n",
       "    </tr>\n",
       "    <tr>\n",
       "      <th>1326</th>\n",
       "      <td>CC(C)[C@@H](CC[C@@H](C)[C@H]1CC[C@H]2[C@@H]3[C...</td>\n",
       "      <td>9.5</td>\n",
       "      <td>1</td>\n",
       "    </tr>\n",
       "    <tr>\n",
       "      <th>1327</th>\n",
       "      <td>CC1=C(C=C(C#N)C(=O)N1)c2ccncc2</td>\n",
       "      <td>0.8</td>\n",
       "      <td>0</td>\n",
       "    </tr>\n",
       "    <tr>\n",
       "      <th>1328</th>\n",
       "      <td>c1ccc(cc1)CC[C@H](N[C@@H]1C(N2[C@@H](CCC[N@@]2...</td>\n",
       "      <td>50.6</td>\n",
       "      <td>1</td>\n",
       "    </tr>\n",
       "    <tr>\n",
       "      <th>1329</th>\n",
       "      <td>c1cc(ccc1O)[C@@H](CN(C)C)C1(CCCCC1)O</td>\n",
       "      <td>8.4</td>\n",
       "      <td>1</td>\n",
       "    </tr>\n",
       "    <tr>\n",
       "      <th>1330</th>\n",
       "      <td>ClCCN(CCCl)P1(=O)NCCCO1</td>\n",
       "      <td>8.0</td>\n",
       "      <td>1</td>\n",
       "    </tr>\n",
       "  </tbody>\n",
       "</table>\n",
       "<p>1331 rows × 3 columns</p>\n",
       "</div>"
      ],
      "text/plain": [
       "                                                 SMILES  terminal  t1/2 (h)  \\\n",
       "0     O([C@H]([C@H](NC(c1nc([C@@H](NC[C@@H](C(N)=O)N...                 3.9   \n",
       "1     c1(nc(cc2ccccc12)C(=O)N([C@@H](CC)C)C)c1c(cccc...                 3.7   \n",
       "2     [H]N([H])C([C@](CCN1CCCCC1)(CCN(C(C)C)C(C)=O)c...                12.0   \n",
       "3            Cc1cc(c(cc1C(=O)NC(=N)N)S(=O)(=O)C)n2cccc2                 2.2   \n",
       "4                    CCCN(CCC)S(=O)(=O)c1ccc(cc1)C(=O)O                 5.9   \n",
       "...                                                 ...                 ...   \n",
       "1326  CC(C)[C@@H](CC[C@@H](C)[C@H]1CC[C@H]2[C@@H]3[C...                 9.5   \n",
       "1327                     CC1=C(C=C(C#N)C(=O)N1)c2ccncc2                 0.8   \n",
       "1328  c1ccc(cc1)CC[C@H](N[C@@H]1C(N2[C@@H](CCC[N@@]2...                50.6   \n",
       "1329               c1cc(ccc1O)[C@@H](CN(C)C)C1(CCCCC1)O                 8.4   \n",
       "1330                            ClCCN(CCCl)P1(=O)NCCCO1                 8.0   \n",
       "\n",
       "      label  \n",
       "0         1  \n",
       "1         1  \n",
       "2         1  \n",
       "3         0  \n",
       "4         1  \n",
       "...     ...  \n",
       "1326      1  \n",
       "1327      0  \n",
       "1328      1  \n",
       "1329      1  \n",
       "1330      1  \n",
       "\n",
       "[1331 rows x 3 columns]"
      ]
     },
     "execution_count": 225,
     "metadata": {},
     "output_type": "execute_result"
    }
   ],
   "source": [
    "label_data"
   ]
  },
  {
   "cell_type": "code",
   "execution_count": 175,
   "id": "1432d7e4",
   "metadata": {},
   "outputs": [],
   "source": [
    "label=label_data.iloc[:,-1]"
   ]
  },
  {
   "cell_type": "code",
   "execution_count": 226,
   "id": "f057acb2",
   "metadata": {},
   "outputs": [],
   "source": [
    "label_data=pd.read_csv('finger/smiles_ll.xlsx')\n",
    "y=np.array(label_data.iloc[:,-1])"
   ]
  },
  {
   "cell_type": "code",
   "execution_count": 227,
   "id": "0c1e1067",
   "metadata": {},
   "outputs": [],
   "source": [
    "d1=pd.read_csv('finger/test_finger.csv')[finger_name]\n",
    "d2=pd.read_csv('finger/train_finger.csv')[finger_name]\n",
    "data_0=pd.concat([d1,d2],axis=0)\n",
    "data_0=data_0.replace(np.NaN, 0)"
   ]
  },
  {
   "cell_type": "code",
   "execution_count": 228,
   "id": "398a409f",
   "metadata": {},
   "outputs": [],
   "source": [
    "x=np.array(data_0.iloc[:,:])\n"
   ]
  },
  {
   "cell_type": "code",
   "execution_count": 229,
   "id": "f9420dbe",
   "metadata": {},
   "outputs": [],
   "source": [
    "#x_train,x_test,y_train,y_test=train_test_split(pre_finger0,y,test_size=0.2,random_state=51,stratify=y)"
   ]
  },
  {
   "cell_type": "code",
   "execution_count": null,
   "id": "111ef5c7",
   "metadata": {},
   "outputs": [],
   "source": []
  },
  {
   "cell_type": "code",
   "execution_count": 266,
   "id": "b71c00eb",
   "metadata": {},
   "outputs": [
    {
     "name": "stdout",
     "output_type": "stream",
     "text": [
      "[[234  77]\n",
      " [305 715]]\n",
      "敏感度TPR：0.434137，特异度TNR：0.902778，ACC：0.712998，AUC：0.763388,MCC：0.390838,F1：0.789183\n"
     ]
    },
    {
     "data": {
      "text/plain": [
       "0.7129977460555973"
      ]
     },
     "execution_count": 266,
     "metadata": {},
     "output_type": "execute_result"
    }
   ],
   "source": [
    "i=1\n",
    "with open('model/gbm3.pkl','rb') as md:\n",
    "        gbm1=pickle.load(md)\n",
    "pre_gbm1_test=gbm1.predict_proba(x)\n",
    "analyze(pre_gbm1_test,y)"
   ]
  },
  {
   "cell_type": "code",
   "execution_count": 267,
   "id": "715a73e8",
   "metadata": {},
   "outputs": [
    {
     "name": "stdout",
     "output_type": "stream",
     "text": [
      "[[280  79]\n",
      " [259 713]]\n",
      "敏感度TPR：0.519481，特异度TNR：0.900253，ACC：0.746056，AUC：0.806121,MCC：0.464248,F1：0.808390\n"
     ]
    },
    {
     "data": {
      "text/plain": [
       "0.7460555972952667"
      ]
     },
     "execution_count": 267,
     "metadata": {},
     "output_type": "execute_result"
    }
   ],
   "source": [
    "i=1\n",
    "with open('model/xg3.pkl','rb') as md:\n",
    "        xg1=pickle.load(md)\n",
    "pre_xg1_test=xg1.predict_proba(x)\n",
    "analyze(pre_xg1_test,y)"
   ]
  },
  {
   "cell_type": "code",
   "execution_count": 268,
   "id": "715dbffe",
   "metadata": {},
   "outputs": [
    {
     "name": "stdout",
     "output_type": "stream",
     "text": [
      "[[309 133]\n",
      " [230 659]]\n",
      "敏感度TPR：0.573284，特异度TNR：0.832071，ACC：0.727273，AUC：0.796431,MCC：0.422503,F1：0.784057\n"
     ]
    },
    {
     "data": {
      "text/plain": [
       "0.7272727272727273"
      ]
     },
     "execution_count": 268,
     "metadata": {},
     "output_type": "execute_result"
    }
   ],
   "source": [
    "i=2\n",
    "with open('model/rf3.pkl','rb') as md:\n",
    "        rf2=pickle.load(md)\n",
    "pre_rf2_test=rf2.predict_proba(x)\n",
    "analyze(pre_rf2_test,y)"
   ]
  },
  {
   "cell_type": "code",
   "execution_count": 269,
   "id": "dd517869",
   "metadata": {},
   "outputs": [
    {
     "name": "stdout",
     "output_type": "stream",
     "text": [
      "[[268  87]\n",
      " [271 705]]\n",
      "敏感度TPR：0.497217，特异度TNR：0.890152，ACC：0.731029，AUC：0.813836,MCC：0.429974,F1：0.797511\n"
     ]
    },
    {
     "data": {
      "text/plain": [
       "0.7310293012772352"
      ]
     },
     "execution_count": 269,
     "metadata": {},
     "output_type": "execute_result"
    }
   ],
   "source": [
    "pre=(pre_rf2_test+pre_gbm1_test+pre_xg1_test)/3.0\n",
    "analyze(pre,y)"
   ]
  },
  {
   "cell_type": "code",
   "execution_count": 270,
   "id": "594735ff",
   "metadata": {},
   "outputs": [],
   "source": [
    "f1=pd.read_excel('finger/t_2_smi_test.xlsx')"
   ]
  },
  {
   "cell_type": "code",
   "execution_count": 271,
   "id": "8f12da60",
   "metadata": {},
   "outputs": [
    {
     "data": {
      "text/html": [
       "<div>\n",
       "<style scoped>\n",
       "    .dataframe tbody tr th:only-of-type {\n",
       "        vertical-align: middle;\n",
       "    }\n",
       "\n",
       "    .dataframe tbody tr th {\n",
       "        vertical-align: top;\n",
       "    }\n",
       "\n",
       "    .dataframe thead th {\n",
       "        text-align: right;\n",
       "    }\n",
       "</style>\n",
       "<table border=\"1\" class=\"dataframe\">\n",
       "  <thead>\n",
       "    <tr style=\"text-align: right;\">\n",
       "      <th></th>\n",
       "      <th>0</th>\n",
       "      <th>名称</th>\n",
       "      <th>半衰期实验值</th>\n",
       "      <th>分类标签</th>\n",
       "    </tr>\n",
       "  </thead>\n",
       "  <tbody>\n",
       "    <tr>\n",
       "      <th>0</th>\n",
       "      <td>c1(nc(cc2ccccc12)C(=O)N([C@@H](CC)C)C)c1c(cccc...</td>\n",
       "      <td>PK11195</td>\n",
       "      <td>3.70</td>\n",
       "      <td>1</td>\n",
       "    </tr>\n",
       "    <tr>\n",
       "      <th>1</th>\n",
       "      <td>c1cc(nc(c1)C(=O)O)Cc2cc(ccc2OCc3ccc(cc3F)Cl)Cl</td>\n",
       "      <td>GSK269984A</td>\n",
       "      <td>8.15</td>\n",
       "      <td>1</td>\n",
       "    </tr>\n",
       "    <tr>\n",
       "      <th>2</th>\n",
       "      <td>[H]N(c1c(c(nc(c2ccnc(c2)c2nnnn2[H])n1)OCCO[H])...</td>\n",
       "      <td>Clazosentan</td>\n",
       "      <td>2.60</td>\n",
       "      <td>0</td>\n",
       "    </tr>\n",
       "    <tr>\n",
       "      <th>3</th>\n",
       "      <td>C(CCNCCN1C(=O)c2c(ccc3ccccc23)C1=O)NCCN1C(=O)c...</td>\n",
       "      <td>Elinafide</td>\n",
       "      <td>52.60</td>\n",
       "      <td>1</td>\n",
       "    </tr>\n",
       "    <tr>\n",
       "      <th>4</th>\n",
       "      <td>C(OP(=O)(NCCBr)NCCBr)c1n(C)c(nc1)N(=O)=O</td>\n",
       "      <td>TH-302</td>\n",
       "      <td>1.00</td>\n",
       "      <td>0</td>\n",
       "    </tr>\n",
       "    <tr>\n",
       "      <th>...</th>\n",
       "      <td>...</td>\n",
       "      <td>...</td>\n",
       "      <td>...</td>\n",
       "      <td>...</td>\n",
       "    </tr>\n",
       "    <tr>\n",
       "      <th>262</th>\n",
       "      <td>CN1N=Nc2c(ncn2C1=O)C(=O)N</td>\n",
       "      <td>Temozolomide</td>\n",
       "      <td>1.50</td>\n",
       "      <td>0</td>\n",
       "    </tr>\n",
       "    <tr>\n",
       "      <th>263</th>\n",
       "      <td>C(CC(C)(N)C)(N[C@H](C(N[C@@H](Cc1c[nH]cn1)C(N[...</td>\n",
       "      <td>Enalkiren</td>\n",
       "      <td>1.72</td>\n",
       "      <td>0</td>\n",
       "    </tr>\n",
       "    <tr>\n",
       "      <th>264</th>\n",
       "      <td>NCCCC[C@H](NC(=O)[C@@H](Cc1cc(Br)c(O)c(Br)c1)N...</td>\n",
       "      <td>Olcegepant</td>\n",
       "      <td>2.50</td>\n",
       "      <td>0</td>\n",
       "    </tr>\n",
       "    <tr>\n",
       "      <th>265</th>\n",
       "      <td>O=N(=O)O[C@H]1CO[C@@H]2[C@@H](CO[C@H]12)ON(=O)=O</td>\n",
       "      <td>Isosorbide Dinitrate</td>\n",
       "      <td>1.70</td>\n",
       "      <td>0</td>\n",
       "    </tr>\n",
       "    <tr>\n",
       "      <th>266</th>\n",
       "      <td>CC([N@+]1([C@@H]2C[C@@H](C[C@@H]1CC2)OC(=O)[C@...</td>\n",
       "      <td>Ciclotropium</td>\n",
       "      <td>3.30</td>\n",
       "      <td>1</td>\n",
       "    </tr>\n",
       "  </tbody>\n",
       "</table>\n",
       "<p>267 rows × 4 columns</p>\n",
       "</div>"
      ],
      "text/plain": [
       "                                                     0                    名称  \\\n",
       "0    c1(nc(cc2ccccc12)C(=O)N([C@@H](CC)C)C)c1c(cccc...               PK11195   \n",
       "1       c1cc(nc(c1)C(=O)O)Cc2cc(ccc2OCc3ccc(cc3F)Cl)Cl            GSK269984A   \n",
       "2    [H]N(c1c(c(nc(c2ccnc(c2)c2nnnn2[H])n1)OCCO[H])...           Clazosentan   \n",
       "3    C(CCNCCN1C(=O)c2c(ccc3ccccc23)C1=O)NCCN1C(=O)c...             Elinafide   \n",
       "4             C(OP(=O)(NCCBr)NCCBr)c1n(C)c(nc1)N(=O)=O                TH-302   \n",
       "..                                                 ...                   ...   \n",
       "262                          CN1N=Nc2c(ncn2C1=O)C(=O)N          Temozolomide   \n",
       "263  C(CC(C)(N)C)(N[C@H](C(N[C@@H](Cc1c[nH]cn1)C(N[...             Enalkiren   \n",
       "264  NCCCC[C@H](NC(=O)[C@@H](Cc1cc(Br)c(O)c(Br)c1)N...            Olcegepant   \n",
       "265   O=N(=O)O[C@H]1CO[C@@H]2[C@@H](CO[C@H]12)ON(=O)=O  Isosorbide Dinitrate   \n",
       "266  CC([N@+]1([C@@H]2C[C@@H](C[C@@H]1CC2)OC(=O)[C@...          Ciclotropium   \n",
       "\n",
       "     半衰期实验值  分类标签  \n",
       "0      3.70     1  \n",
       "1      8.15     1  \n",
       "2      2.60     0  \n",
       "3     52.60     1  \n",
       "4      1.00     0  \n",
       "..      ...   ...  \n",
       "262    1.50     0  \n",
       "263    1.72     0  \n",
       "264    2.50     0  \n",
       "265    1.70     0  \n",
       "266    3.30     1  \n",
       "\n",
       "[267 rows x 4 columns]"
      ]
     },
     "execution_count": 271,
     "metadata": {},
     "output_type": "execute_result"
    }
   ],
   "source": [
    "f1"
   ]
  },
  {
   "cell_type": "code",
   "execution_count": 272,
   "id": "1f25dc95",
   "metadata": {},
   "outputs": [],
   "source": [
    "real_test=list(f1.iloc[:,-1])"
   ]
  },
  {
   "cell_type": "code",
   "execution_count": 273,
   "id": "87844dbf",
   "metadata": {},
   "outputs": [
    {
     "data": {
      "text/plain": [
       "267"
      ]
     },
     "execution_count": 273,
     "metadata": {},
     "output_type": "execute_result"
    }
   ],
   "source": [
    "smiles=list(f1.iloc[:,0])\n",
    "len(smiles)"
   ]
  },
  {
   "cell_type": "code",
   "execution_count": 238,
   "id": "ceec7a44",
   "metadata": {},
   "outputs": [
    {
     "data": {
      "text/plain": [
       "1331"
      ]
     },
     "execution_count": 238,
     "metadata": {},
     "output_type": "execute_result"
    }
   ],
   "source": [
    "smi0=list(label_data.iloc[:,0])\n",
    "len(smi0)"
   ]
  },
  {
   "cell_type": "code",
   "execution_count": 274,
   "id": "e4e519e8",
   "metadata": {},
   "outputs": [],
   "source": [
    "index=[]\n",
    "for s in smiles:\n",
    "    TT=True\n",
    "    for i in range(len(smi0)):\n",
    "        if smi0[i]==s:\n",
    "            #print(f2_smiles[i],s)\n",
    "            index.append(i)\n",
    "            TT=False\n",
    "            break\n",
    "    if TT:\n",
    "        x=0\n",
    "        n=1\n",
    "        #index.append([560-n,1097-n,1139-n,1278-n][x])\n",
    "        print(s)\n",
    "        x+=1         "
   ]
  },
  {
   "cell_type": "code",
   "execution_count": 275,
   "id": "7fe5421c",
   "metadata": {},
   "outputs": [],
   "source": [
    "#pp=np.argmax(pre,axis=1)\n",
    "test_pp=pre[index]\n",
    "ll=label[index]"
   ]
  },
  {
   "cell_type": "code",
   "execution_count": 276,
   "id": "e449096b",
   "metadata": {},
   "outputs": [
    {
     "name": "stdout",
     "output_type": "stream",
     "text": [
      "[[ 54  24]\n",
      " [ 54 135]]\n",
      "敏感度TPR：0.500000，特异度TNR：0.849057，ACC：0.707865，AUC：0.751106,MCC：0.376728,F1：0.775862\n"
     ]
    },
    {
     "data": {
      "text/plain": [
       "0.7078651685393258"
      ]
     },
     "execution_count": 276,
     "metadata": {},
     "output_type": "execute_result"
    }
   ],
   "source": [
    "analyze(test_pp,real_test)"
   ]
  },
  {
   "cell_type": "code",
   "execution_count": 253,
   "id": "2053aacc",
   "metadata": {},
   "outputs": [],
   "source": [
    "f1['pre']=np.argmax(test_pp,axis=1)"
   ]
  },
  {
   "cell_type": "code",
   "execution_count": 264,
   "id": "b5b23334",
   "metadata": {},
   "outputs": [],
   "source": [
    "#f1.to_csv('end.csv')"
   ]
  },
  {
   "cell_type": "code",
   "execution_count": 263,
   "id": "ec84388d",
   "metadata": {},
   "outputs": [
    {
     "name": "stdout",
     "output_type": "stream",
     "text": [
      "1\n"
     ]
    }
   ],
   "source": [
    "test_smi='[Gd+3].COCCNC(=O)CN(CCN(CCN(CC([O-])=O)CC(=O)NCCOC)CC([O-])=O)CC([O-])=O'\n",
    "for i in range(len(smi0)):\n",
    "        if smi0[i]==s:\n",
    "            print(np.argmax(pre,axis=1)[i])"
   ]
  },
  {
   "cell_type": "code",
   "execution_count": 258,
   "id": "fd1151e7",
   "metadata": {},
   "outputs": [
    {
     "name": "stdout",
     "output_type": "stream",
     "text": [
      "[Gd+3].COCCNC(=O)CN(CCN(CCN(CC([O-])=O)CC(=O)NCCOC)CC([O-])=O)CC([O-])=O\n"
     ]
    },
    {
     "data": {
      "text/plain": [
       "268"
      ]
     },
     "execution_count": 258,
     "metadata": {},
     "output_type": "execute_result"
    }
   ],
   "source": [
    "index=[]\n",
    "for s in smiles:\n",
    "    TT=True\n",
    "    x=0\n",
    "    for i in range(len(smi0)):\n",
    "        if smi0[i]==s:\n",
    "            index.append(i)\n",
    "            x+=1\n",
    "    if x==2:\n",
    "        print(s)\n",
    "\n",
    "len(index)    "
   ]
  },
  {
   "cell_type": "code",
   "execution_count": null,
   "id": "26350cd4",
   "metadata": {},
   "outputs": [],
   "source": []
  },
  {
   "cell_type": "code",
   "execution_count": 57,
   "id": "42751ca3",
   "metadata": {},
   "outputs": [],
   "source": [
    "label_data.to_csv('real_pre.csv')"
   ]
  },
  {
   "cell_type": "code",
   "execution_count": null,
   "id": "8d5cabad",
   "metadata": {},
   "outputs": [],
   "source": []
  }
 ],
 "metadata": {
  "kernelspec": {
   "display_name": "Python 3",
   "language": "python",
   "name": "python3"
  },
  "language_info": {
   "codemirror_mode": {
    "name": "ipython",
    "version": 3
   },
   "file_extension": ".py",
   "mimetype": "text/x-python",
   "name": "python",
   "nbconvert_exporter": "python",
   "pygments_lexer": "ipython3",
   "version": "3.7.7"
  }
 },
 "nbformat": 4,
 "nbformat_minor": 5
}
