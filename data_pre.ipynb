{
 "cells": [
  {
   "cell_type": "code",
   "execution_count": 37,
   "id": "f36db059",
   "metadata": {},
   "outputs": [],
   "source": [
    "import pandas as pd\n",
    "import numpy as np"
   ]
  },
  {
   "cell_type": "code",
   "execution_count": 38,
   "id": "74ea5461",
   "metadata": {},
   "outputs": [],
   "source": [
    "all_data=pd.read_csv('t_2.csv')"
   ]
  },
  {
   "cell_type": "code",
   "execution_count": 39,
   "id": "675cb110",
   "metadata": {},
   "outputs": [
    {
     "data": {
      "text/html": [
       "<div>\n",
       "<style scoped>\n",
       "    .dataframe tbody tr th:only-of-type {\n",
       "        vertical-align: middle;\n",
       "    }\n",
       "\n",
       "    .dataframe tbody tr th {\n",
       "        vertical-align: top;\n",
       "    }\n",
       "\n",
       "    .dataframe thead th {\n",
       "        text-align: right;\n",
       "    }\n",
       "</style>\n",
       "<table border=\"1\" class=\"dataframe\">\n",
       "  <thead>\n",
       "    <tr style=\"text-align: right;\">\n",
       "      <th></th>\n",
       "      <th>SMILES</th>\n",
       "      <th>terminal  t1/2 (h)</th>\n",
       "    </tr>\n",
       "  </thead>\n",
       "  <tbody>\n",
       "    <tr>\n",
       "      <th>0</th>\n",
       "      <td>N1[C@H](C(=O)N[C@H](C(=O)N[C@H](C(=O)N[C@H](C(...</td>\n",
       "      <td>0.22</td>\n",
       "    </tr>\n",
       "    <tr>\n",
       "      <th>1</th>\n",
       "      <td>c1cn(c(=O)nc1N)[C@H]2CO[C@H](S2)CO</td>\n",
       "      <td>19.20</td>\n",
       "    </tr>\n",
       "    <tr>\n",
       "      <th>2</th>\n",
       "      <td>c1cn(c(=O)nc1N)[C@@H]2CO[C@@H](S2)CO</td>\n",
       "      <td>8.92</td>\n",
       "    </tr>\n",
       "    <tr>\n",
       "      <th>3</th>\n",
       "      <td>O[C@@H]1C[C@@](C[C@@H](OC(=O)\\C=C\\c2ccc(O)c(O)...</td>\n",
       "      <td>1.37</td>\n",
       "    </tr>\n",
       "    <tr>\n",
       "      <th>4</th>\n",
       "      <td>C1([C@@H]2[C@@]3([C@@]([C@@H]4[C@@H]([C@@]5(CC...</td>\n",
       "      <td>51.60</td>\n",
       "    </tr>\n",
       "    <tr>\n",
       "      <th>...</th>\n",
       "      <td>...</td>\n",
       "      <td>...</td>\n",
       "    </tr>\n",
       "    <tr>\n",
       "      <th>1327</th>\n",
       "      <td>OC(=O)CN1C(=O)C(=O)Nc2cc(c(cc12)n3ccnc3)N(=O)=O</td>\n",
       "      <td>0.78</td>\n",
       "    </tr>\n",
       "    <tr>\n",
       "      <th>1328</th>\n",
       "      <td>C(=O)(NC(=N)N)c1c(n(nc1)c1c2c(ccc1)nccc2)C1CC1</td>\n",
       "      <td>2.00</td>\n",
       "    </tr>\n",
       "    <tr>\n",
       "      <th>1329</th>\n",
       "      <td>CN1CCN(CC1)C(=O)OC2N(C(=O)c3nccnc23)c4ccc(Cl)cn4</td>\n",
       "      <td>5.20</td>\n",
       "    </tr>\n",
       "    <tr>\n",
       "      <th>1330</th>\n",
       "      <td>COc1cccc2C(=O)c3c(O)c4C[C@](O)(C[C@H](O[C@H]5C...</td>\n",
       "      <td>2.02</td>\n",
       "    </tr>\n",
       "    <tr>\n",
       "      <th>1331</th>\n",
       "      <td>CO[C@@H]1C[C@H](C[C@@H](C)[C@@H]2CC(=O)[C@H](C...</td>\n",
       "      <td>35.00</td>\n",
       "    </tr>\n",
       "  </tbody>\n",
       "</table>\n",
       "<p>1332 rows × 2 columns</p>\n",
       "</div>"
      ],
      "text/plain": [
       "                                                 SMILES  terminal  t1/2 (h)\n",
       "0     N1[C@H](C(=O)N[C@H](C(=O)N[C@H](C(=O)N[C@H](C(...                0.22\n",
       "1                    c1cn(c(=O)nc1N)[C@H]2CO[C@H](S2)CO               19.20\n",
       "2                  c1cn(c(=O)nc1N)[C@@H]2CO[C@@H](S2)CO                8.92\n",
       "3     O[C@@H]1C[C@@](C[C@@H](OC(=O)\\C=C\\c2ccc(O)c(O)...                1.37\n",
       "4     C1([C@@H]2[C@@]3([C@@]([C@@H]4[C@@H]([C@@]5(CC...               51.60\n",
       "...                                                 ...                 ...\n",
       "1327    OC(=O)CN1C(=O)C(=O)Nc2cc(c(cc12)n3ccnc3)N(=O)=O                0.78\n",
       "1328     C(=O)(NC(=N)N)c1c(n(nc1)c1c2c(ccc1)nccc2)C1CC1                2.00\n",
       "1329   CN1CCN(CC1)C(=O)OC2N(C(=O)c3nccnc23)c4ccc(Cl)cn4                5.20\n",
       "1330  COc1cccc2C(=O)c3c(O)c4C[C@](O)(C[C@H](O[C@H]5C...                2.02\n",
       "1331  CO[C@@H]1C[C@H](C[C@@H](C)[C@@H]2CC(=O)[C@H](C...               35.00\n",
       "\n",
       "[1332 rows x 2 columns]"
      ]
     },
     "execution_count": 39,
     "metadata": {},
     "output_type": "execute_result"
    }
   ],
   "source": [
    "all_data"
   ]
  },
  {
   "cell_type": "code",
   "execution_count": 40,
   "id": "3c7d21dc",
   "metadata": {},
   "outputs": [],
   "source": [
    "all_data=all_data.sample(frac=1).reset_index(drop=True)\n",
    "num=int(all_data.shape[0]*0.2)\n",
    "test_data=all_data.iloc[:num,:]\n",
    "train_data=all_data.iloc[num:,:]"
   ]
  },
  {
   "cell_type": "code",
   "execution_count": 41,
   "id": "49ccc02a",
   "metadata": {},
   "outputs": [
    {
     "data": {
      "text/html": [
       "<div>\n",
       "<style scoped>\n",
       "    .dataframe tbody tr th:only-of-type {\n",
       "        vertical-align: middle;\n",
       "    }\n",
       "\n",
       "    .dataframe tbody tr th {\n",
       "        vertical-align: top;\n",
       "    }\n",
       "\n",
       "    .dataframe thead th {\n",
       "        text-align: right;\n",
       "    }\n",
       "</style>\n",
       "<table border=\"1\" class=\"dataframe\">\n",
       "  <thead>\n",
       "    <tr style=\"text-align: right;\">\n",
       "      <th></th>\n",
       "      <th>SMILES</th>\n",
       "      <th>terminal  t1/2 (h)</th>\n",
       "    </tr>\n",
       "  </thead>\n",
       "  <tbody>\n",
       "    <tr>\n",
       "      <th>266</th>\n",
       "      <td>[Gd+3].COCCNC(=O)CN(CCN(CCN(CC([O-])=O)CC(=O)N...</td>\n",
       "      <td>1.46</td>\n",
       "    </tr>\n",
       "    <tr>\n",
       "      <th>267</th>\n",
       "      <td>COc1ccc2CN(C)CC[C@@]34C=C[C@H](O)C[C@@H]3Oc1c24</td>\n",
       "      <td>5.30</td>\n",
       "    </tr>\n",
       "    <tr>\n",
       "      <th>268</th>\n",
       "      <td>C[C@H](\\C=C\\[C@H](C)C(C)(C)O)[C@H]1CC[C@H]2\\C(...</td>\n",
       "      <td>5.30</td>\n",
       "    </tr>\n",
       "    <tr>\n",
       "      <th>269</th>\n",
       "      <td>c1(n(c2c(C(=O)c3ccccc3C2=O)[n+]1Cc1cnccn1)CCOC)C</td>\n",
       "      <td>24.80</td>\n",
       "    </tr>\n",
       "    <tr>\n",
       "      <th>270</th>\n",
       "      <td>COC(=O)[C@H](c1ccccc1Cl)N2CCc3c(ccs3)C2</td>\n",
       "      <td>5.06</td>\n",
       "    </tr>\n",
       "    <tr>\n",
       "      <th>...</th>\n",
       "      <td>...</td>\n",
       "      <td>...</td>\n",
       "    </tr>\n",
       "    <tr>\n",
       "      <th>1327</th>\n",
       "      <td>CC(C)[C@@H](CC[C@@H](C)[C@H]1CC[C@H]2[C@@H]3[C...</td>\n",
       "      <td>9.50</td>\n",
       "    </tr>\n",
       "    <tr>\n",
       "      <th>1328</th>\n",
       "      <td>CC1=C(C=C(C#N)C(=O)N1)c2ccncc2</td>\n",
       "      <td>0.80</td>\n",
       "    </tr>\n",
       "    <tr>\n",
       "      <th>1329</th>\n",
       "      <td>c1ccc(cc1)CC[C@H](N[C@@H]1C(N2[C@@H](CCC[N@@]2...</td>\n",
       "      <td>50.60</td>\n",
       "    </tr>\n",
       "    <tr>\n",
       "      <th>1330</th>\n",
       "      <td>c1cc(ccc1O)[C@@H](CN(C)C)C1(CCCCC1)O</td>\n",
       "      <td>8.40</td>\n",
       "    </tr>\n",
       "    <tr>\n",
       "      <th>1331</th>\n",
       "      <td>ClCCN(CCCl)P1(=O)NCCCO1</td>\n",
       "      <td>8.00</td>\n",
       "    </tr>\n",
       "  </tbody>\n",
       "</table>\n",
       "<p>1066 rows × 2 columns</p>\n",
       "</div>"
      ],
      "text/plain": [
       "                                                 SMILES  terminal  t1/2 (h)\n",
       "266   [Gd+3].COCCNC(=O)CN(CCN(CCN(CC([O-])=O)CC(=O)N...                1.46\n",
       "267     COc1ccc2CN(C)CC[C@@]34C=C[C@H](O)C[C@@H]3Oc1c24                5.30\n",
       "268   C[C@H](\\C=C\\[C@H](C)C(C)(C)O)[C@H]1CC[C@H]2\\C(...                5.30\n",
       "269    c1(n(c2c(C(=O)c3ccccc3C2=O)[n+]1Cc1cnccn1)CCOC)C               24.80\n",
       "270             COC(=O)[C@H](c1ccccc1Cl)N2CCc3c(ccs3)C2                5.06\n",
       "...                                                 ...                 ...\n",
       "1327  CC(C)[C@@H](CC[C@@H](C)[C@H]1CC[C@H]2[C@@H]3[C...                9.50\n",
       "1328                     CC1=C(C=C(C#N)C(=O)N1)c2ccncc2                0.80\n",
       "1329  c1ccc(cc1)CC[C@H](N[C@@H]1C(N2[C@@H](CCC[N@@]2...               50.60\n",
       "1330               c1cc(ccc1O)[C@@H](CN(C)C)C1(CCCCC1)O                8.40\n",
       "1331                            ClCCN(CCCl)P1(=O)NCCCO1                8.00\n",
       "\n",
       "[1066 rows x 2 columns]"
      ]
     },
     "execution_count": 41,
     "metadata": {},
     "output_type": "execute_result"
    }
   ],
   "source": [
    "train_data"
   ]
  },
  {
   "cell_type": "code",
   "execution_count": 42,
   "id": "55ea4781",
   "metadata": {},
   "outputs": [
    {
     "name": "stdout",
     "output_type": "stream",
     "text": [
      "432 635\n"
     ]
    },
    {
     "name": "stderr",
     "output_type": "stream",
     "text": [
      "/home/wm/anaconda3/envs/bling/lib/python3.7/site-packages/ipykernel_launcher.py:13: SettingWithCopyWarning: \n",
      "A value is trying to be set on a copy of a slice from a DataFrame.\n",
      "Try using .loc[row_indexer,col_indexer] = value instead\n",
      "\n",
      "See the caveats in the documentation: https://pandas.pydata.org/pandas-docs/stable/user_guide/indexing.html#returning-a-view-versus-a-copy\n",
      "  del sys.path[0]\n"
     ]
    }
   ],
   "source": [
    "real_label=list(train_data.iloc[:,1])\n",
    "labels=[]\n",
    "n=0\n",
    "m=1\n",
    "for real in real_label:\n",
    "    if real<3:\n",
    "        labels.append(0)\n",
    "        n+=1\n",
    "    else:\n",
    "        labels.append(1)\n",
    "        m+=1\n",
    "print(n,m)\n",
    "train_data['label']=labels"
   ]
  },
  {
   "cell_type": "code",
   "execution_count": 43,
   "id": "e53a109c",
   "metadata": {},
   "outputs": [
    {
     "data": {
      "text/html": [
       "<div>\n",
       "<style scoped>\n",
       "    .dataframe tbody tr th:only-of-type {\n",
       "        vertical-align: middle;\n",
       "    }\n",
       "\n",
       "    .dataframe tbody tr th {\n",
       "        vertical-align: top;\n",
       "    }\n",
       "\n",
       "    .dataframe thead th {\n",
       "        text-align: right;\n",
       "    }\n",
       "</style>\n",
       "<table border=\"1\" class=\"dataframe\">\n",
       "  <thead>\n",
       "    <tr style=\"text-align: right;\">\n",
       "      <th></th>\n",
       "      <th>SMILES</th>\n",
       "      <th>terminal  t1/2 (h)</th>\n",
       "    </tr>\n",
       "  </thead>\n",
       "  <tbody>\n",
       "    <tr>\n",
       "      <th>0</th>\n",
       "      <td>O([C@H]([C@H](NC(c1nc([C@@H](NC[C@@H](C(N)=O)N...</td>\n",
       "      <td>3.90</td>\n",
       "    </tr>\n",
       "    <tr>\n",
       "      <th>1</th>\n",
       "      <td>c1(nc(cc2ccccc12)C(=O)N([C@@H](CC)C)C)c1c(cccc...</td>\n",
       "      <td>3.70</td>\n",
       "    </tr>\n",
       "    <tr>\n",
       "      <th>2</th>\n",
       "      <td>[H]N([H])C([C@](CCN1CCCCC1)(CCN(C(C)C)C(C)=O)c...</td>\n",
       "      <td>12.00</td>\n",
       "    </tr>\n",
       "    <tr>\n",
       "      <th>3</th>\n",
       "      <td>Cc1cc(c(cc1C(=O)NC(=N)N)S(=O)(=O)C)n2cccc2</td>\n",
       "      <td>2.20</td>\n",
       "    </tr>\n",
       "    <tr>\n",
       "      <th>4</th>\n",
       "      <td>CCCN(CCC)S(=O)(=O)c1ccc(cc1)C(=O)O</td>\n",
       "      <td>5.90</td>\n",
       "    </tr>\n",
       "    <tr>\n",
       "      <th>...</th>\n",
       "      <td>...</td>\n",
       "      <td>...</td>\n",
       "    </tr>\n",
       "    <tr>\n",
       "      <th>261</th>\n",
       "      <td>N(CCN(CC)CC)C(C(=C(C1CNC=O)S2)C(=O)C(C2=CC=C2O...</td>\n",
       "      <td>6.19</td>\n",
       "    </tr>\n",
       "    <tr>\n",
       "      <th>262</th>\n",
       "      <td>n1(nnnc1SCC1=C(N2[C@H](OC1)[C@@](C2=O)(OC)NC(=...</td>\n",
       "      <td>0.60</td>\n",
       "    </tr>\n",
       "    <tr>\n",
       "      <th>263</th>\n",
       "      <td>OCCN1C[C@H](O)[C@@H](O)[C@H](O)[C@H]1CO</td>\n",
       "      <td>2.30</td>\n",
       "    </tr>\n",
       "    <tr>\n",
       "      <th>264</th>\n",
       "      <td>[C@@H]12[C@@H]([C@@]3(C(=CC(=O)CC3)CC2)C)CC[C@...</td>\n",
       "      <td>0.17</td>\n",
       "    </tr>\n",
       "    <tr>\n",
       "      <th>265</th>\n",
       "      <td>[Na+].[Na+].c1(cc(c(cc1)\\C=[N+](\\C(C)(C)C)[O-]...</td>\n",
       "      <td>3.60</td>\n",
       "    </tr>\n",
       "  </tbody>\n",
       "</table>\n",
       "<p>266 rows × 2 columns</p>\n",
       "</div>"
      ],
      "text/plain": [
       "                                                SMILES  terminal  t1/2 (h)\n",
       "0    O([C@H]([C@H](NC(c1nc([C@@H](NC[C@@H](C(N)=O)N...                3.90\n",
       "1    c1(nc(cc2ccccc12)C(=O)N([C@@H](CC)C)C)c1c(cccc...                3.70\n",
       "2    [H]N([H])C([C@](CCN1CCCCC1)(CCN(C(C)C)C(C)=O)c...               12.00\n",
       "3           Cc1cc(c(cc1C(=O)NC(=N)N)S(=O)(=O)C)n2cccc2                2.20\n",
       "4                   CCCN(CCC)S(=O)(=O)c1ccc(cc1)C(=O)O                5.90\n",
       "..                                                 ...                 ...\n",
       "261  N(CCN(CC)CC)C(C(=C(C1CNC=O)S2)C(=O)C(C2=CC=C2O...                6.19\n",
       "262  n1(nnnc1SCC1=C(N2[C@H](OC1)[C@@](C2=O)(OC)NC(=...                0.60\n",
       "263            OCCN1C[C@H](O)[C@@H](O)[C@H](O)[C@H]1CO                2.30\n",
       "264  [C@@H]12[C@@H]([C@@]3(C(=CC(=O)CC3)CC2)C)CC[C@...                0.17\n",
       "265  [Na+].[Na+].c1(cc(c(cc1)\\C=[N+](\\C(C)(C)C)[O-]...                3.60\n",
       "\n",
       "[266 rows x 2 columns]"
      ]
     },
     "execution_count": 43,
     "metadata": {},
     "output_type": "execute_result"
    }
   ],
   "source": [
    "test_data"
   ]
  },
  {
   "cell_type": "code",
   "execution_count": 44,
   "id": "5625782a",
   "metadata": {},
   "outputs": [
    {
     "name": "stdout",
     "output_type": "stream",
     "text": [
      "108 159\n"
     ]
    },
    {
     "name": "stderr",
     "output_type": "stream",
     "text": [
      "/home/wm/anaconda3/envs/bling/lib/python3.7/site-packages/ipykernel_launcher.py:13: SettingWithCopyWarning: \n",
      "A value is trying to be set on a copy of a slice from a DataFrame.\n",
      "Try using .loc[row_indexer,col_indexer] = value instead\n",
      "\n",
      "See the caveats in the documentation: https://pandas.pydata.org/pandas-docs/stable/user_guide/indexing.html#returning-a-view-versus-a-copy\n",
      "  del sys.path[0]\n"
     ]
    }
   ],
   "source": [
    "real_label=list(test_data.iloc[:,1])\n",
    "labels=[]\n",
    "n=0\n",
    "m=1\n",
    "for real in real_label:\n",
    "    if real<3:\n",
    "        labels.append(0)\n",
    "        n+=1\n",
    "    else:\n",
    "        labels.append(1)\n",
    "        m+=1\n",
    "print(n,m)\n",
    "test_data['label']=labels"
   ]
  },
  {
   "cell_type": "code",
   "execution_count": 45,
   "id": "00908df6",
   "metadata": {},
   "outputs": [],
   "source": [
    "train_data.to_csv('t_2_train.csv',index=False)\n",
    "test_data.to_csv('t_2_test.csv',index=False)"
   ]
  },
  {
   "cell_type": "code",
   "execution_count": 46,
   "id": "5644e835",
   "metadata": {},
   "outputs": [
    {
     "data": {
      "text/plain": [
       "['SMILES', 'terminal  t1/2 (h)', 'label']"
      ]
     },
     "execution_count": 46,
     "metadata": {},
     "output_type": "execute_result"
    }
   ],
   "source": [
    "list(train_data)"
   ]
  },
  {
   "cell_type": "code",
   "execution_count": 35,
   "id": "17b21b7b",
   "metadata": {},
   "outputs": [],
   "source": [
    "train_data[['SMILES','terminal  t1/2 (h)']].to_csv('t_2_train_reg.csv',index=False,header=None)"
   ]
  },
  {
   "cell_type": "code",
   "execution_count": 36,
   "id": "0b90c757",
   "metadata": {},
   "outputs": [],
   "source": [
    "test_data[['SMILES','terminal  t1/2 (h)']].to_csv('t_2_test_reg.csv',index=False,header=None)"
   ]
  },
  {
   "cell_type": "code",
   "execution_count": null,
   "id": "01da1200",
   "metadata": {},
   "outputs": [],
   "source": []
  }
 ],
 "metadata": {
  "kernelspec": {
   "display_name": "Python 3",
   "language": "python",
   "name": "python3"
  },
  "language_info": {
   "codemirror_mode": {
    "name": "ipython",
    "version": 3
   },
   "file_extension": ".py",
   "mimetype": "text/x-python",
   "name": "python",
   "nbconvert_exporter": "python",
   "pygments_lexer": "ipython3",
   "version": "3.7.7"
  }
 },
 "nbformat": 4,
 "nbformat_minor": 5
}
