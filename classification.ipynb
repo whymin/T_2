{
 "cells": [
  {
   "cell_type": "code",
   "execution_count": 1433,
   "id": "30c031c6",
   "metadata": {},
   "outputs": [],
   "source": [
    "import pandas as pd\n",
    "import numpy as np\n",
    "\n",
    "import matplotlib.pyplot as plt\n",
    "import math\n",
    "\n",
    "from sklearn.ensemble import RandomForestClassifier\n",
    "from xgboost import XGBClassifier\n",
    "from sklearn.svm import LinearSVC\n",
    "from sklearn.svm import SVC\n",
    "from sklearn.ensemble import GradientBoostingClassifier\n",
    "\n",
    "import tensorflow as tf\n",
    "import keras\n",
    "from keras.callbacks import EarlyStopping"
   ]
  },
  {
   "cell_type": "code",
   "execution_count": 1909,
   "id": "6d02a859",
   "metadata": {},
   "outputs": [
    {
     "data": {
      "text/html": [
       "<div>\n",
       "<style scoped>\n",
       "    .dataframe tbody tr th:only-of-type {\n",
       "        vertical-align: middle;\n",
       "    }\n",
       "\n",
       "    .dataframe tbody tr th {\n",
       "        vertical-align: top;\n",
       "    }\n",
       "\n",
       "    .dataframe thead th {\n",
       "        text-align: right;\n",
       "    }\n",
       "</style>\n",
       "<table border=\"1\" class=\"dataframe\">\n",
       "  <thead>\n",
       "    <tr style=\"text-align: right;\">\n",
       "      <th></th>\n",
       "      <th>SMILES</th>\n",
       "      <th>terminal  t1/2 (h)</th>\n",
       "      <th>label</th>\n",
       "    </tr>\n",
       "  </thead>\n",
       "  <tbody>\n",
       "    <tr>\n",
       "      <th>0</th>\n",
       "      <td>[Gd+3].COCCNC(=O)CN(CCN(CCN(CC([O-])=O)CC(=O)N...</td>\n",
       "      <td>1.46</td>\n",
       "      <td>0</td>\n",
       "    </tr>\n",
       "    <tr>\n",
       "      <th>1</th>\n",
       "      <td>COc1ccc2CN(C)CC[C@@]34C=C[C@H](O)C[C@@H]3Oc1c24</td>\n",
       "      <td>5.30</td>\n",
       "      <td>1</td>\n",
       "    </tr>\n",
       "    <tr>\n",
       "      <th>2</th>\n",
       "      <td>C[C@H](\\C=C\\[C@H](C)C(C)(C)O)[C@H]1CC[C@H]2\\C(...</td>\n",
       "      <td>5.30</td>\n",
       "      <td>1</td>\n",
       "    </tr>\n",
       "    <tr>\n",
       "      <th>3</th>\n",
       "      <td>c1(n(c2c(C(=O)c3ccccc3C2=O)[n+]1Cc1cnccn1)CCOC)C</td>\n",
       "      <td>24.80</td>\n",
       "      <td>1</td>\n",
       "    </tr>\n",
       "    <tr>\n",
       "      <th>4</th>\n",
       "      <td>COC(=O)[C@H](c1ccccc1Cl)N2CCc3c(ccs3)C2</td>\n",
       "      <td>5.06</td>\n",
       "      <td>1</td>\n",
       "    </tr>\n",
       "    <tr>\n",
       "      <th>...</th>\n",
       "      <td>...</td>\n",
       "      <td>...</td>\n",
       "      <td>...</td>\n",
       "    </tr>\n",
       "    <tr>\n",
       "      <th>1061</th>\n",
       "      <td>CC(C)[C@@H](CC[C@@H](C)[C@H]1CC[C@H]2[C@@H]3[C...</td>\n",
       "      <td>9.50</td>\n",
       "      <td>1</td>\n",
       "    </tr>\n",
       "    <tr>\n",
       "      <th>1062</th>\n",
       "      <td>CC1=C(C=C(C#N)C(=O)N1)c2ccncc2</td>\n",
       "      <td>0.80</td>\n",
       "      <td>0</td>\n",
       "    </tr>\n",
       "    <tr>\n",
       "      <th>1063</th>\n",
       "      <td>c1ccc(cc1)CC[C@H](N[C@@H]1C(N2[C@@H](CCC[N@@]2...</td>\n",
       "      <td>50.60</td>\n",
       "      <td>1</td>\n",
       "    </tr>\n",
       "    <tr>\n",
       "      <th>1064</th>\n",
       "      <td>c1cc(ccc1O)[C@@H](CN(C)C)C1(CCCCC1)O</td>\n",
       "      <td>8.40</td>\n",
       "      <td>1</td>\n",
       "    </tr>\n",
       "    <tr>\n",
       "      <th>1065</th>\n",
       "      <td>ClCCN(CCCl)P1(=O)NCCCO1</td>\n",
       "      <td>8.00</td>\n",
       "      <td>1</td>\n",
       "    </tr>\n",
       "  </tbody>\n",
       "</table>\n",
       "<p>1066 rows × 3 columns</p>\n",
       "</div>"
      ],
      "text/plain": [
       "                                                 SMILES  terminal  t1/2 (h)  \\\n",
       "0     [Gd+3].COCCNC(=O)CN(CCN(CCN(CC([O-])=O)CC(=O)N...                1.46   \n",
       "1       COc1ccc2CN(C)CC[C@@]34C=C[C@H](O)C[C@@H]3Oc1c24                5.30   \n",
       "2     C[C@H](\\C=C\\[C@H](C)C(C)(C)O)[C@H]1CC[C@H]2\\C(...                5.30   \n",
       "3      c1(n(c2c(C(=O)c3ccccc3C2=O)[n+]1Cc1cnccn1)CCOC)C               24.80   \n",
       "4               COC(=O)[C@H](c1ccccc1Cl)N2CCc3c(ccs3)C2                5.06   \n",
       "...                                                 ...                 ...   \n",
       "1061  CC(C)[C@@H](CC[C@@H](C)[C@H]1CC[C@H]2[C@@H]3[C...                9.50   \n",
       "1062                     CC1=C(C=C(C#N)C(=O)N1)c2ccncc2                0.80   \n",
       "1063  c1ccc(cc1)CC[C@H](N[C@@H]1C(N2[C@@H](CCC[N@@]2...               50.60   \n",
       "1064               c1cc(ccc1O)[C@@H](CN(C)C)C1(CCCCC1)O                8.40   \n",
       "1065                            ClCCN(CCCl)P1(=O)NCCCO1                8.00   \n",
       "\n",
       "      label  \n",
       "0         0  \n",
       "1         1  \n",
       "2         1  \n",
       "3         1  \n",
       "4         1  \n",
       "...     ...  \n",
       "1061      1  \n",
       "1062      0  \n",
       "1063      1  \n",
       "1064      1  \n",
       "1065      1  \n",
       "\n",
       "[1066 rows x 3 columns]"
      ]
     },
     "execution_count": 1909,
     "metadata": {},
     "output_type": "execute_result"
    }
   ],
   "source": [
    "t_train=pd.read_csv('t_2_train.csv')\n",
    "t_train"
   ]
  },
  {
   "cell_type": "code",
   "execution_count": 1870,
   "id": "58409055",
   "metadata": {},
   "outputs": [],
   "source": [
    "train_data=pd.read_csv('t_2_train.csv')\n",
    "train_smiles=list(train_data.iloc[:,0])\n",
    "train_labels=list(train_data.iloc[:,2])"
   ]
  },
  {
   "cell_type": "code",
   "execution_count": 1871,
   "id": "27c4881e",
   "metadata": {},
   "outputs": [],
   "source": [
    "test_data=pd.read_csv('t_2_test.csv')\n",
    "test_smiles=list(test_data.iloc[:,0])\n",
    "test_labels=list(test_data.iloc[:,2])"
   ]
  },
  {
   "cell_type": "code",
   "execution_count": 1872,
   "id": "929cf9ce",
   "metadata": {},
   "outputs": [
    {
     "data": {
      "text/plain": [
       "[1, 2, 3, 4, 5, 6]"
      ]
     },
     "execution_count": 1872,
     "metadata": {},
     "output_type": "execute_result"
    }
   ],
   "source": [
    "a=[1,2,3]\n",
    "b=[4,5,6]\n",
    "c=a+b\n",
    "c"
   ]
  },
  {
   "cell_type": "code",
   "execution_count": 1873,
   "id": "c3c2e9ad",
   "metadata": {},
   "outputs": [],
   "source": [
    "from rdkit.Chem import MACCSkeys\n",
    "from rdkit import Chem\n",
    "from rdkit.Chem import AllChem\n",
    "from rdkit import DataStructs\n",
    "def get_finger(smiles):\n",
    "    all_mols=[]\n",
    "    for smi in list(smiles):\n",
    "        m=Chem.MolFromSmiles(smi)\n",
    "        all_mols.append(m)\n",
    "    #all_fps=[Chem.RDKFingerprint(mol) for mol in all_mols]\n",
    "    all_fingerprints1 =[MACCSkeys.GenMACCSKeys(mol).ToBitString() for mol in all_mols]\n",
    "    all_fingerprints2 =[AllChem.GetMorganFingerprintAsBitVect(mol,2,nBits=1024).ToBitString() for mol in all_mols]\n",
    "    #all_fingerprints=all_fingerprints1+all_fingerprints2\n",
    "    #print(all_fingerprints)\n",
    "    x = []\n",
    "    for finger in all_fingerprints1:\n",
    "        x.append(np.fromiter(finger, dtype=int))\n",
    "    x = np.array(x)\n",
    "    \n",
    "    y = []\n",
    "    for finger in all_fingerprints2:\n",
    "        y.append(np.fromiter(finger, dtype=int))\n",
    "    y = np.array(y)\n",
    "    return x,y"
   ]
  },
  {
   "cell_type": "code",
   "execution_count": 1874,
   "id": "f8cafdf6",
   "metadata": {},
   "outputs": [],
   "source": [
    "for smi in list(train_smiles):\n",
    "        m=Chem.MolFromSmiles(smi)\n",
    "        try:\n",
    "            Chem.RDKFingerprint(m) \n",
    "        except:\n",
    "            print(smi)\n",
    "            print(m)"
   ]
  },
  {
   "cell_type": "code",
   "execution_count": 1875,
   "id": "9fe47aa7",
   "metadata": {},
   "outputs": [],
   "source": [
    "from sklearn.metrics import roc_curve,auc\n",
    "from sklearn.metrics import confusion_matrix\n",
    "from sklearn.metrics import accuracy_score as ACC\n",
    "from sklearn.metrics import matthews_corrcoef as MCC\n",
    "from sklearn.metrics import roc_auc_score as AUC\n",
    "from sklearn.metrics import f1_score as F1\n",
    "def auc_roc(y_test1,pre):\n",
    "    pre=[p for p in pre[:,1]]\n",
    "    #print(pre)\n",
    "    fpr,tpr,threshold = roc_curve(y_test1,pre)###计算真正率和假正率\n",
    "    roc_auc = auc(fpr,tpr)\n",
    "    #print('roc_auc:%2f'%(roc_auc))\n",
    "    return roc_auc\n",
    "def analyze(pre,real):\n",
    "    AUC_test=auc_roc(real,pre)\n",
    "    pre=np.argmax(pre,axis=1)\n",
    "    #print(pre)\n",
    "    m=confusion_matrix(pre,real, labels=[0,1], sample_weight=None)\n",
    "    print(m)\n",
    "    tp, fp, fn, tn = m.ravel()\n",
    "    TPR=tp/(tp+fn)\n",
    "    TNR=tn/(tn+fp)\n",
    "    ACC_test=ACC(real,pre)\n",
    "    #AUC_test=auc_roc(real,pre)\n",
    "    MCC_test=MCC(real,pre)\n",
    "    F1_test=F1(real,pre)\n",
    "    print('敏感度TPR：%2f，特异度TNR：%2f，ACC：%2f，AUC：%2f,MCC：%2f,F1：%2f'%(TPR,TNR,ACC_test,AUC_test,MCC_test,F1_test))"
   ]
  },
  {
   "cell_type": "code",
   "execution_count": 1876,
   "id": "3af4f31b",
   "metadata": {},
   "outputs": [],
   "source": [
    "x_test1,x_test2=get_finger(test_smiles)"
   ]
  },
  {
   "cell_type": "code",
   "execution_count": 1878,
   "id": "efb14efa",
   "metadata": {},
   "outputs": [],
   "source": [
    "x_train1,x_train2=get_finger(train_smiles)\n"
   ]
  },
  {
   "cell_type": "code",
   "execution_count": 1879,
   "id": "638b956d",
   "metadata": {},
   "outputs": [
    {
     "name": "stdout",
     "output_type": "stream",
     "text": [
      "[[0 0 0 ... 0 0 0]\n",
      " [0 0 0 ... 0 0 0]\n",
      " [0 0 0 ... 0 0 0]\n",
      " ...\n",
      " [0 0 0 ... 0 0 0]\n",
      " [0 0 0 ... 0 0 0]\n",
      " [0 0 0 ... 0 0 0]]\n"
     ]
    }
   ],
   "source": [
    "df1 = pd.DataFrame(x_train1)\n",
    "df2=pd.DataFrame(x_train2)\n",
    "df=pd.concat([df1,df2],axis=1)\n",
    "x_train=df.values#as_matrix()\n",
    "print(x_train)\n",
    "#df.loc[:, (df != 0).any(axis=0)]"
   ]
  },
  {
   "cell_type": "code",
   "execution_count": 1880,
   "id": "333b05cd",
   "metadata": {},
   "outputs": [
    {
     "name": "stdout",
     "output_type": "stream",
     "text": [
      "[[0 0 0 ... 0 0 0]\n",
      " [0 0 0 ... 0 0 0]\n",
      " [0 0 0 ... 0 0 0]\n",
      " ...\n",
      " [0 0 0 ... 0 0 0]\n",
      " [0 0 0 ... 0 0 0]\n",
      " [0 0 0 ... 0 0 0]]\n"
     ]
    }
   ],
   "source": [
    "df1 = pd.DataFrame(x_test1)\n",
    "df2=pd.DataFrame(x_test2)\n",
    "df=pd.concat([df1,df2],axis=1)\n",
    "x_test=df.values#as_matrix()\n",
    "print(x_test)"
   ]
  },
  {
   "cell_type": "code",
   "execution_count": 1881,
   "id": "478926ab",
   "metadata": {},
   "outputs": [],
   "source": [
    "#df.to_csv('train_test.csv',index=False)"
   ]
  },
  {
   "cell_type": "code",
   "execution_count": 1883,
   "id": "5eaf8629",
   "metadata": {},
   "outputs": [
    {
     "data": {
      "text/plain": [
       "(1066, 1191)"
      ]
     },
     "execution_count": 1883,
     "metadata": {},
     "output_type": "execute_result"
    }
   ],
   "source": [
    "x_train.shape"
   ]
  },
  {
   "cell_type": "code",
   "execution_count": 1884,
   "id": "2d674e46",
   "metadata": {},
   "outputs": [
    {
     "name": "stdout",
     "output_type": "stream",
     "text": [
      "[[431   4]\n",
      " [  1 630]]\n",
      "敏感度TPR：0.997685，特异度TNR：0.993691，ACC：0.995310，AUC：0.999923,MCC：0.990297,F1：0.996047\n",
      "[[ 67  48]\n",
      " [ 41 110]]\n",
      "敏感度TPR：0.620370，特异度TNR：0.696203，ACC：0.665414，AUC：0.729518,MCC：0.313817,F1：0.711974\n"
     ]
    }
   ],
   "source": [
    "rf1=RandomForestClassifier(n_jobs=-1,n_estimators=20)#min_samples_leaf=1  ,min_samples_split=2\n",
    "rf1.fit(x_train,train_labels)\n",
    "\n",
    "pred_train1=rf1.predict_proba(x_train)\n",
    "analyze(pred_train1,train_labels)\n",
    "\n",
    "pred_test1=rf1.predict_proba(x_test)\n",
    "analyze(pred_test1,test_labels)\n"
   ]
  },
  {
   "cell_type": "code",
   "execution_count": 1866,
   "id": "9f20def9",
   "metadata": {},
   "outputs": [],
   "source": [
    "num_samples=x_train.shape[0]//5\n"
   ]
  },
  {
   "cell_type": "code",
   "execution_count": 1867,
   "id": "98ddc5fb",
   "metadata": {},
   "outputs": [
    {
     "name": "stdout",
     "output_type": "stream",
     "text": [
      "213\n"
     ]
    }
   ],
   "source": [
    "print(num_samples)"
   ]
  },
  {
   "cell_type": "code",
   "execution_count": 1886,
   "id": "51a20670",
   "metadata": {},
   "outputs": [
    {
     "name": "stdout",
     "output_type": "stream",
     "text": [
      "[[ 11   1]\n",
      " [ 68 133]]\n",
      "敏感度TPR：0.139241，特异度TNR：0.992537，ACC：0.676056，AUC：0.698375,MCC：0.276070,F1：0.794030\n",
      "[[ 16   2]\n",
      " [ 80 115]]\n",
      "敏感度TPR：0.166667，特异度TNR：0.982906，ACC：0.615023，AUC：0.717325,MCC：0.267564,F1：0.737179\n",
      "[[ 14   5]\n",
      " [ 60 134]]\n",
      "敏感度TPR：0.189189，特异度TNR：0.964029，ACC：0.694836，AUC：0.676940,MCC：0.255950,F1：0.804805\n",
      "[[ 13   2]\n",
      " [ 80 118]]\n",
      "敏感度TPR：0.139785，特异度TNR：0.983333，ACC：0.615023，AUC：0.678136,MCC：0.238658,F1：0.742138\n",
      "[[ 19   4]\n",
      " [ 71 119]]\n",
      "敏感度TPR：0.211111，特异度TNR：0.967480，ACC：0.647887，AUC：0.722222,MCC：0.284245,F1：0.760383\n",
      "test\n",
      "[[ 19   7]\n",
      " [ 89 151]]\n",
      "敏感度TPR：0.175926，特异度TNR：0.955696，ACC：0.639098，AUC：0.752696,MCC：0.217659,F1：0.758794\n"
     ]
    }
   ],
   "source": [
    "i=0\n",
    "rf0=RandomForestClassifier( n_estimators=31,max_depth=3)#min_samples_leaf=6, , max_depth=12, min_samples_split=10,max_features=25 )#, min_samples_split=5,  \n",
    "                                # min_samples_leaf=6,max_features=25 , random_state=10)\n",
    "val_data= x_train[i*num_samples:(i+1)*num_samples,:]\n",
    "val_label= train_labels[i * num_samples:(i + 1) * num_samples]\n",
    "train_data=np.concatenate([x_train[:i*num_samples,:],x_train[(i+1)*num_samples:,:]],axis=0)\n",
    "train_label = np.concatenate([train_labels[:i*num_samples], train_labels[(i + 1) * num_samples:]], axis=0)\n",
    "rf0.fit(train_data,train_label)\n",
    "pre_rf=rf0.predict_proba(val_data)\n",
    "aa0=analyze(pre_rf,val_label)\n",
    "#pre_rf=rf0.predict_proba(train_data)\n",
    "#analyze(pre_rf,train_label)\n",
    "i=1\n",
    "rf1=RandomForestClassifier( n_estimators=31,max_depth=3)#(min_samples_leaf=6, n_estimators=31)#, max_depth=12, min_samples_split=10,max_features=25 )#, min_samples_split=5,  \n",
    "                                 #min_samples_leaf=6,max_features=25 ,oob_score=True, random_state=10)\n",
    "val_data= x_train[i*num_samples:(i+1)*num_samples,:]\n",
    "val_label= train_labels[i * num_samples:(i + 1) * num_samples]\n",
    "train_data=np.concatenate([x_train[:i*num_samples,:],x_train[(i+1)*num_samples:,:]],axis=0)\n",
    "train_label = np.concatenate([train_labels[:i*num_samples], train_labels[(i + 1) * num_samples:]], axis=0)\n",
    "rf1.fit(train_data,train_label)\n",
    "pre_rf=rf1.predict_proba(val_data)\n",
    "acc1=analyze(pre_rf,val_label)\n",
    "#pre_rf=rf1.predict_proba(train_data)\n",
    "#analyze(pre_rf,train_label)\n",
    "i=2\n",
    "rf2=RandomForestClassifier( n_estimators=31,max_depth=3)#(min_samples_leaf=6, n_estimators=31)# max_depth=12, min_samples_split=10,max_features=25 )#, min_samples_split=5,  \n",
    "                                # min_samples_leaf=6,max_features=25 ,oob_score=True, random_state=10)\n",
    "val_data= x_train[i*num_samples:(i+1)*num_samples,:]\n",
    "val_label= train_labels[i * num_samples:(i + 1) * num_samples]\n",
    "train_data=np.concatenate([x_train[:i*num_samples,:],x_train[(i+1)*num_samples:,:]],axis=0)\n",
    "train_label = np.concatenate([train_labels[:i*num_samples], train_labels[(i + 1) * num_samples:]], axis=0)\n",
    "rf2.fit(train_data,train_label)\n",
    "pre_rf=rf2.predict_proba(val_data)\n",
    "acc2=analyze(pre_rf,val_label)\n",
    "#pre_rf=rf2.predict_proba(train_data)\n",
    "#analyze(pre_rf,train_label)\n",
    "i=3\n",
    "rf3=RandomForestClassifier( n_estimators=31,max_depth=3)#(min_samples_leaf=6, n_estimators=31)# max_depth=12, min_samples_split=10,max_features=25 )#, min_samples_split=5,  \n",
    "                                # min_samples_leaf=6,max_features=25 ,oob_score=True, random_state=10)\n",
    "val_data= x_train[i*num_samples:(i+1)*num_samples,:]\n",
    "val_label= train_labels[i * num_samples:(i + 1) * num_samples]\n",
    "train_data=np.concatenate([x_train[:i*num_samples,:],x_train[(i+1)*num_samples:,:]],axis=0)\n",
    "train_label = np.concatenate([train_labels[:i*num_samples], train_labels[(i + 1) * num_samples:]], axis=0)\n",
    "rf3.fit(train_data,train_label)\n",
    "pre_rf=rf3.predict_proba(val_data)\n",
    "acc3=analyze(pre_rf,val_label)\n",
    "#pre_rf=rf3.predict_proba(train_data)\n",
    "#analyze(pre_rf,train_label)\n",
    "i=4\n",
    "rf4=RandomForestClassifier( n_estimators=31,max_depth=3)#(min_samples_leaf=6, n_estimators=31)#max_depth=12,min_samples_split=10,max_features=25 )#, min_samples_split=5,  \n",
    "                                 #min_samples_leaf=6,max_features=25 ,oob_score=True, random_state=10)\n",
    "val_data= x_train[i*num_samples:(i+1)*num_samples,:]\n",
    "val_label= train_labels[i * num_samples:(i + 1) * num_samples]\n",
    "train_data=np.concatenate([x_train[:i*num_samples,:],x_train[(i+1)*num_samples:,:]],axis=0)\n",
    "train_label = np.concatenate([train_labels[:i*num_samples], train_labels[(i + 1) * num_samples:]], axis=0)\n",
    "rf4.fit(train_data,train_label)\n",
    "pre_rf=rf4.predict_proba(val_data)\n",
    "acc4=analyze(pre_rf,val_label)\n",
    "#pre_rf=rf4.predict_proba(train_data)\n",
    "#analyze(pre_rf,train_label)\n",
    "print('test')\n",
    "probarf0=rf0.predict_proba(x_test)\n",
    "probarf1=rf1.predict_proba(x_test)\n",
    "probarf2=rf2.predict_proba(x_test)\n",
    "probarf3=rf3.predict_proba(x_test)\n",
    "probarf4=rf4.predict_proba(x_test)\n",
    "probarf_test=(probarf0+probarf1+probarf2+probarf3+probarf4)/5.0\n",
    "#probarf=(probarf1+probarf2+probarf3+probarf4)/5.0\n",
    "aa=analyze(probarf_test,test_labels)"
   ]
  },
  {
   "cell_type": "code",
   "execution_count": 1932,
   "id": "95c8908d",
   "metadata": {},
   "outputs": [
    {
     "name": "stdout",
     "output_type": "stream",
     "text": [
      "[[243  25]\n",
      " [110 475]]\n",
      "敏感度TPR：0.688385，特异度TNR：0.950000，ACC：0.841735，AUC：0.944547,MCC：0.677345,F1：0.875576\n",
      "[[ 39  30]\n",
      " [ 40 104]]\n",
      "敏感度TPR：0.493671，特异度TNR：0.776119，ACC：0.671362，AUC：0.727943,MCC：0.278475,F1：0.748201\n",
      "test0\n",
      "[[ 61  38]\n",
      " [ 47 120]]\n",
      "敏感度TPR：0.564815，特异度TNR：0.759494，ACC：0.680451，AUC：0.731188,MCC：0.329475,F1：0.738462\n"
     ]
    }
   ],
   "source": [
    "i=0\n",
    "rf0=RandomForestClassifier(n_estimators=20)#,max_depth=20,max_features=8)#min_samples_leaf=6, , max_depth=12, min_samples_split=10,max_features=25 )#, min_samples_split=5,  \n",
    "                                # min_samples_leaf=6,max_features=25 , random_state=10)\n",
    "val_data= x_train[i*num_samples:(i+1)*num_samples,:]\n",
    "val_label= train_labels[i * num_samples:(i + 1) * num_samples]\n",
    "train_data=np.concatenate([x_train[:i*num_samples,:],x_train[(i+1)*num_samples:,:]],axis=0)\n",
    "train_label = np.concatenate([train_labels[:i*num_samples], train_labels[(i + 1) * num_samples:]], axis=0)\n",
    "rf0.fit(train_data,train_label)\n",
    "pre_rf_train1=rf1.predict_proba(train_data)\n",
    "acc1=analyze(pre_rf_train1,train_label)\n",
    "pre_rf=rf0.predict_proba(val_data)\n",
    "aa0=analyze(pre_rf,val_label)\n",
    "print('test0')\n",
    "probarf0=rf0.predict_proba(x_test)\n",
    "analyze(probarf0,test_labels)"
   ]
  },
  {
   "cell_type": "code",
   "execution_count": 1933,
   "id": "b054b8a5",
   "metadata": {},
   "outputs": [
    {
     "data": {
      "text/html": [
       "<div>\n",
       "<style scoped>\n",
       "    .dataframe tbody tr th:only-of-type {\n",
       "        vertical-align: middle;\n",
       "    }\n",
       "\n",
       "    .dataframe tbody tr th {\n",
       "        vertical-align: top;\n",
       "    }\n",
       "\n",
       "    .dataframe thead th {\n",
       "        text-align: right;\n",
       "    }\n",
       "</style>\n",
       "<table border=\"1\" class=\"dataframe\">\n",
       "  <thead>\n",
       "    <tr style=\"text-align: right;\">\n",
       "      <th></th>\n",
       "      <th>SMILES</th>\n",
       "      <th>terminal  t1/2 (h)</th>\n",
       "      <th>label</th>\n",
       "    </tr>\n",
       "  </thead>\n",
       "  <tbody>\n",
       "    <tr>\n",
       "      <th>213</th>\n",
       "      <td>[Gd+3].OC(=O)CN(CCN(CCN(CC(O)=O)CC([O-])=O)CC(...</td>\n",
       "      <td>1.60</td>\n",
       "      <td>0</td>\n",
       "    </tr>\n",
       "    <tr>\n",
       "      <th>214</th>\n",
       "      <td>Cc1cc(C)c2N(C[C@@H]3CC[C@H](CC3)C(=O)O)CCC[C@H...</td>\n",
       "      <td>51.94</td>\n",
       "      <td>1</td>\n",
       "    </tr>\n",
       "    <tr>\n",
       "      <th>215</th>\n",
       "      <td>CC(C)C[C@H](NC(=O)CNC(=O)c1cc(Cl)ccc1Cl)B(O)O</td>\n",
       "      <td>97.00</td>\n",
       "      <td>1</td>\n",
       "    </tr>\n",
       "    <tr>\n",
       "      <th>216</th>\n",
       "      <td>CNC(=O)c1ccccc1Sc2ccc3c(c2)[nH]nc3/C=C/c4ccccn4</td>\n",
       "      <td>4.30</td>\n",
       "      <td>1</td>\n",
       "    </tr>\n",
       "    <tr>\n",
       "      <th>217</th>\n",
       "      <td>C(C(C)C)CCCCCCC(=O)N[C@H]1[C@H](Oc2c3cc4[C@H](...</td>\n",
       "      <td>66.80</td>\n",
       "      <td>1</td>\n",
       "    </tr>\n",
       "    <tr>\n",
       "      <th>...</th>\n",
       "      <td>...</td>\n",
       "      <td>...</td>\n",
       "      <td>...</td>\n",
       "    </tr>\n",
       "    <tr>\n",
       "      <th>1061</th>\n",
       "      <td>CC(C)[C@@H](CC[C@@H](C)[C@H]1CC[C@H]2[C@@H]3[C...</td>\n",
       "      <td>9.50</td>\n",
       "      <td>1</td>\n",
       "    </tr>\n",
       "    <tr>\n",
       "      <th>1062</th>\n",
       "      <td>CC1=C(C=C(C#N)C(=O)N1)c2ccncc2</td>\n",
       "      <td>0.80</td>\n",
       "      <td>0</td>\n",
       "    </tr>\n",
       "    <tr>\n",
       "      <th>1063</th>\n",
       "      <td>c1ccc(cc1)CC[C@H](N[C@@H]1C(N2[C@@H](CCC[N@@]2...</td>\n",
       "      <td>50.60</td>\n",
       "      <td>1</td>\n",
       "    </tr>\n",
       "    <tr>\n",
       "      <th>1064</th>\n",
       "      <td>c1cc(ccc1O)[C@@H](CN(C)C)C1(CCCCC1)O</td>\n",
       "      <td>8.40</td>\n",
       "      <td>1</td>\n",
       "    </tr>\n",
       "    <tr>\n",
       "      <th>1065</th>\n",
       "      <td>ClCCN(CCCl)P1(=O)NCCCO1</td>\n",
       "      <td>8.00</td>\n",
       "      <td>1</td>\n",
       "    </tr>\n",
       "  </tbody>\n",
       "</table>\n",
       "<p>853 rows × 3 columns</p>\n",
       "</div>"
      ],
      "text/plain": [
       "                                                 SMILES  terminal  t1/2 (h)  \\\n",
       "213   [Gd+3].OC(=O)CN(CCN(CCN(CC(O)=O)CC([O-])=O)CC(...                1.60   \n",
       "214   Cc1cc(C)c2N(C[C@@H]3CC[C@H](CC3)C(=O)O)CCC[C@H...               51.94   \n",
       "215       CC(C)C[C@H](NC(=O)CNC(=O)c1cc(Cl)ccc1Cl)B(O)O               97.00   \n",
       "216     CNC(=O)c1ccccc1Sc2ccc3c(c2)[nH]nc3/C=C/c4ccccn4                4.30   \n",
       "217   C(C(C)C)CCCCCCC(=O)N[C@H]1[C@H](Oc2c3cc4[C@H](...               66.80   \n",
       "...                                                 ...                 ...   \n",
       "1061  CC(C)[C@@H](CC[C@@H](C)[C@H]1CC[C@H]2[C@@H]3[C...                9.50   \n",
       "1062                     CC1=C(C=C(C#N)C(=O)N1)c2ccncc2                0.80   \n",
       "1063  c1ccc(cc1)CC[C@H](N[C@@H]1C(N2[C@@H](CCC[N@@]2...               50.60   \n",
       "1064               c1cc(ccc1O)[C@@H](CN(C)C)C1(CCCCC1)O                8.40   \n",
       "1065                            ClCCN(CCCl)P1(=O)NCCCO1                8.00   \n",
       "\n",
       "      label  \n",
       "213       0  \n",
       "214       1  \n",
       "215       1  \n",
       "216       1  \n",
       "217       1  \n",
       "...     ...  \n",
       "1061      1  \n",
       "1062      0  \n",
       "1063      1  \n",
       "1064      1  \n",
       "1065      1  \n",
       "\n",
       "[853 rows x 3 columns]"
      ]
     },
     "execution_count": 1933,
     "metadata": {},
     "output_type": "execute_result"
    }
   ],
   "source": [
    "traindata00=t_train.iloc[:i*num_samples,:]\n",
    "traindata01=t_train.iloc[(i+1)*num_samples:,:]\n",
    "traindata0=pd.concat([traindata00,traindata01],axis=0)\n",
    "traindata0"
   ]
  },
  {
   "cell_type": "code",
   "execution_count": 1934,
   "id": "156829f6",
   "metadata": {},
   "outputs": [
    {
     "name": "stdout",
     "output_type": "stream",
     "text": [
      "135\n"
     ]
    },
    {
     "data": {
      "text/html": [
       "<div>\n",
       "<style scoped>\n",
       "    .dataframe tbody tr th:only-of-type {\n",
       "        vertical-align: middle;\n",
       "    }\n",
       "\n",
       "    .dataframe tbody tr th {\n",
       "        vertical-align: top;\n",
       "    }\n",
       "\n",
       "    .dataframe thead th {\n",
       "        text-align: right;\n",
       "    }\n",
       "</style>\n",
       "<table border=\"1\" class=\"dataframe\">\n",
       "  <thead>\n",
       "    <tr style=\"text-align: right;\">\n",
       "      <th></th>\n",
       "      <th>SMILES</th>\n",
       "      <th>terminal  t1/2 (h)</th>\n",
       "      <th>label</th>\n",
       "    </tr>\n",
       "  </thead>\n",
       "  <tbody>\n",
       "    <tr>\n",
       "      <th>221</th>\n",
       "      <td>CCCC(=O)OCOC(=O)C1=C(C)NC(=C(C1c2cccc(Cl)c2Cl)...</td>\n",
       "      <td>0.30</td>\n",
       "      <td>0</td>\n",
       "    </tr>\n",
       "    <tr>\n",
       "      <th>224</th>\n",
       "      <td>Cc1nnc2CN=C(c3ccccc3Cl)c4cc(Cl)ccc4n12</td>\n",
       "      <td>2.70</td>\n",
       "      <td>0</td>\n",
       "    </tr>\n",
       "    <tr>\n",
       "      <th>236</th>\n",
       "      <td>CO[C@H]1C[C@H](C)CC2=C(NCC=C)C(=O)C=C(NC(=O)\\C...</td>\n",
       "      <td>3.00</td>\n",
       "      <td>1</td>\n",
       "    </tr>\n",
       "    <tr>\n",
       "      <th>237</th>\n",
       "      <td>C(c1ccc(cc1)OC[C@@H](C[N@@](CCC[S@@](=O)CCC)CC...</td>\n",
       "      <td>2.40</td>\n",
       "      <td>0</td>\n",
       "    </tr>\n",
       "    <tr>\n",
       "      <th>259</th>\n",
       "      <td>COc1ccccc1OCCNCC(O)COc2cccc3[nH]c4ccccc4c23</td>\n",
       "      <td>2.40</td>\n",
       "      <td>0</td>\n",
       "    </tr>\n",
       "    <tr>\n",
       "      <th>...</th>\n",
       "      <td>...</td>\n",
       "      <td>...</td>\n",
       "      <td>...</td>\n",
       "    </tr>\n",
       "    <tr>\n",
       "      <th>1054</th>\n",
       "      <td>NCCCC[C@H](NC(=O)[C@@H](Cc1cc(Br)c(O)c(Br)c1)N...</td>\n",
       "      <td>2.50</td>\n",
       "      <td>0</td>\n",
       "    </tr>\n",
       "    <tr>\n",
       "      <th>1055</th>\n",
       "      <td>O=N(=O)O[C@H]1CO[C@@H]2[C@@H](CO[C@H]12)ON(=O)=O</td>\n",
       "      <td>1.70</td>\n",
       "      <td>0</td>\n",
       "    </tr>\n",
       "    <tr>\n",
       "      <th>1057</th>\n",
       "      <td>CC([N@+]1([C@@H]2C[C@@H](C[C@@H]1CC2)OC(=O)[C@...</td>\n",
       "      <td>3.30</td>\n",
       "      <td>1</td>\n",
       "    </tr>\n",
       "    <tr>\n",
       "      <th>1058</th>\n",
       "      <td>O[C@H](/C=C/[C@@H]1N(CCSCCCC(O)=O)C(CC1)=O)CC2...</td>\n",
       "      <td>0.38</td>\n",
       "      <td>0</td>\n",
       "    </tr>\n",
       "    <tr>\n",
       "      <th>1059</th>\n",
       "      <td>C(C1CCCC1)(c1ccccc1)(C(=O)OC1C[N+](CC1)(C)C)O....</td>\n",
       "      <td>0.65</td>\n",
       "      <td>0</td>\n",
       "    </tr>\n",
       "  </tbody>\n",
       "</table>\n",
       "<p>135 rows × 3 columns</p>\n",
       "</div>"
      ],
      "text/plain": [
       "                                                 SMILES  terminal  t1/2 (h)  \\\n",
       "221   CCCC(=O)OCOC(=O)C1=C(C)NC(=C(C1c2cccc(Cl)c2Cl)...                0.30   \n",
       "224              Cc1nnc2CN=C(c3ccccc3Cl)c4cc(Cl)ccc4n12                2.70   \n",
       "236   CO[C@H]1C[C@H](C)CC2=C(NCC=C)C(=O)C=C(NC(=O)\\C...                3.00   \n",
       "237   C(c1ccc(cc1)OC[C@@H](C[N@@](CCC[S@@](=O)CCC)CC...                2.40   \n",
       "259         COc1ccccc1OCCNCC(O)COc2cccc3[nH]c4ccccc4c23                2.40   \n",
       "...                                                 ...                 ...   \n",
       "1054  NCCCC[C@H](NC(=O)[C@@H](Cc1cc(Br)c(O)c(Br)c1)N...                2.50   \n",
       "1055   O=N(=O)O[C@H]1CO[C@@H]2[C@@H](CO[C@H]12)ON(=O)=O                1.70   \n",
       "1057  CC([N@+]1([C@@H]2C[C@@H](C[C@@H]1CC2)OC(=O)[C@...                3.30   \n",
       "1058  O[C@H](/C=C/[C@@H]1N(CCSCCCC(O)=O)C(CC1)=O)CC2...                0.38   \n",
       "1059  C(C1CCCC1)(c1ccccc1)(C(=O)OC1C[N+](CC1)(C)C)O....                0.65   \n",
       "\n",
       "      label  \n",
       "221       0  \n",
       "224       0  \n",
       "236       1  \n",
       "237       0  \n",
       "259       0  \n",
       "...     ...  \n",
       "1054      0  \n",
       "1055      0  \n",
       "1057      1  \n",
       "1058      0  \n",
       "1059      0  \n",
       "\n",
       "[135 rows x 3 columns]"
      ]
     },
     "execution_count": 1934,
     "metadata": {},
     "output_type": "execute_result"
    }
   ],
   "source": [
    "pres=np.argmax(pre_rf_train1,axis=1)\n",
    "m=0\n",
    "index=[]\n",
    "df_all0=pd.DataFrame()\n",
    "for i in range(len(pres)):\n",
    "    if pres[i]!=traindata0.iloc[i,2]:\n",
    "        index.append(i)\n",
    "        #df=traindata0.iloc[i,:]\n",
    "        #print(df)\n",
    "        #df_all0=pd.concat([df_all0,df],axis=0)\n",
    "        #print(pres[i],traindata0.iloc[i,2])\n",
    "        m+=1\n",
    "df_all0=traindata0.iloc[index,:]\n",
    "print(m)\n",
    "df_all0"
   ]
  },
  {
   "cell_type": "code",
   "execution_count": 1892,
   "id": "2e1fc6a1",
   "metadata": {},
   "outputs": [
    {
     "name": "stdout",
     "output_type": "stream",
     "text": [
      "[[243  25]\n",
      " [110 475]]\n",
      "敏感度TPR：0.688385，特异度TNR：0.950000，ACC：0.841735，AUC：0.944547,MCC：0.677345,F1：0.875576\n",
      "[[ 30  16]\n",
      " [ 49 118]]\n",
      "敏感度TPR：0.379747，特异度TNR：0.880597，ACC：0.694836，AUC：0.686945,MCC：0.305616,F1：0.784053\n",
      "test1\n",
      "[[ 42  28]\n",
      " [ 66 130]]\n",
      "敏感度TPR：0.388889，特异度TNR：0.822785，ACC：0.646617，AUC：0.677801,MCC：0.236064,F1：0.734463\n"
     ]
    }
   ],
   "source": [
    "## i=1\n",
    "rf1=RandomForestClassifier(n_estimators=10,max_depth=20,max_features=8,min_samples_leaf=2)#,max_depth=20,max_features=8)#(min_samples_leaf=6, n_estimators=31)#, max_depth=12, min_samples_split=10,max_features=25 )#, min_samples_split=5,  \n",
    "                                 #min_samples_leaf=6,max_features=25 ,oob_score=True, random_state=10)\n",
    "val_data= x_train[i*num_samples:(i+1)*num_samples,:]\n",
    "val_label= train_labels[i * num_samples:(i + 1) * num_samples]\n",
    "train_data=np.concatenate([x_train[:i*num_samples,:],x_train[(i+1)*num_samples:,:]],axis=0)\n",
    "train_label = np.concatenate([train_labels[:i*num_samples], train_labels[(i + 1) * num_samples:]], axis=0)\n",
    "rf1.fit(train_data,train_label)\n",
    "pre_rf_train2=rf1.predict_proba(train_data)\n",
    "acc1=analyze(pre_rf_train2,train_label)\n",
    "pre_rf=rf1.predict_proba(val_data)\n",
    "acc1=analyze(pre_rf,val_label)\n",
    "print('test1')\n",
    "probarf1=rf1.predict_proba(x_test)\n",
    "analyze(probarf1,test_labels)"
   ]
  },
  {
   "cell_type": "code",
   "execution_count": 1894,
   "id": "6198ea61",
   "metadata": {},
   "outputs": [
    {
     "name": "stdout",
     "output_type": "stream",
     "text": [
      "[[220  34]\n",
      " [138 461]]\n",
      "敏感度TPR：0.614525，特异度TNR：0.931313，ACC：0.798359，AUC：0.895424,MCC：0.589085,F1：0.842779\n",
      "[[ 43  37]\n",
      " [ 31 102]]\n",
      "敏感度TPR：0.581081，特异度TNR：0.733813，ACC：0.680751，AUC：0.743340,MCC：0.309611,F1：0.750000\n",
      "test2\n",
      "[[ 69  44]\n",
      " [ 39 114]]\n",
      "敏感度TPR：0.638889，特异度TNR：0.721519，ACC：0.687970，AUC：0.732859,MCC：0.358055,F1：0.733119\n"
     ]
    }
   ],
   "source": [
    "i=2\n",
    "rf2=RandomForestClassifier(n_estimators=20)#,max_depth=20,max_features=8)#(min_samples_leaf=6, n_estimators=31)# max_depth=12, min_samples_split=10,max_features=25 )#, min_samples_split=5,  \n",
    "                                # min_samples_leaf=6,max_features=25 ,oob_score=True, random_state=10)\n",
    "val_data= x_train[i*num_samples:(i+1)*num_samples,:]\n",
    "val_label= train_labels[i * num_samples:(i + 1) * num_samples]\n",
    "train_data=np.concatenate([x_train[:i*num_samples,:],x_train[(i+1)*num_samples:,:]],axis=0)\n",
    "train_label = np.concatenate([train_labels[:i*num_samples], train_labels[(i + 1) * num_samples:]], axis=0)\n",
    "rf2.fit(train_data,train_label)\n",
    "pre_rf=rf1.predict_proba(train_data)\n",
    "acc1=analyze(pre_rf,train_label)\n",
    "pre_rf=rf2.predict_proba(val_data)\n",
    "acc2=analyze(pre_rf,val_label)\n",
    "print('test2')\n",
    "probarf2=rf2.predict_proba(x_test)\n",
    "analyze(probarf2,test_labels)"
   ]
  },
  {
   "cell_type": "code",
   "execution_count": 1897,
   "id": "740d2c92",
   "metadata": {},
   "outputs": [
    {
     "name": "stdout",
     "output_type": "stream",
     "text": [
      "[[212  34]\n",
      " [127 480]]\n",
      "敏感度TPR：0.625369，特异度TNR：0.933852，ACC：0.811254，AUC：0.889401,MCC：0.604092,F1：0.856378\n",
      "[[ 43  20]\n",
      " [ 50 100]]\n",
      "敏感度TPR：0.462366，特异度TNR：0.833333，ACC：0.671362，AUC：0.754256,MCC：0.321341,F1：0.740741\n",
      "test3\n",
      "[[ 61  38]\n",
      " [ 47 120]]\n",
      "敏感度TPR：0.564815，特异度TNR：0.759494，ACC：0.680451，AUC：0.751377,MCC：0.329475,F1：0.738462\n"
     ]
    }
   ],
   "source": [
    "i=3\n",
    "rf3=RandomForestClassifier(n_estimators=20)#,max_depth=20,max_features=8)#(min_samples_leaf=6, n_estimators=31)# max_depth=12, min_samples_split=10,max_features=25 )#, min_samples_split=5,  \n",
    "                                # min_samples_leaf=6,max_features=25 ,oob_score=True, random_state=10)\n",
    "val_data= x_train[i*num_samples:(i+1)*num_samples,:]\n",
    "val_label= train_labels[i * num_samples:(i + 1) * num_samples]\n",
    "train_data=np.concatenate([x_train[:i*num_samples,:],x_train[(i+1)*num_samples:,:]],axis=0)\n",
    "train_label = np.concatenate([train_labels[:i*num_samples], train_labels[(i + 1) * num_samples:]], axis=0)\n",
    "rf3.fit(train_data,train_label)\n",
    "pre_rf=rf1.predict_proba(train_data)\n",
    "acc1=analyze(pre_rf,train_label)\n",
    "pre_rf=rf3.predict_proba(val_data)\n",
    "acc3=analyze(pre_rf,val_label)\n",
    "print('test3')\n",
    "probarf3=rf3.predict_proba(x_test)\n",
    "analyze(probarf3,test_labels)"
   ]
  },
  {
   "cell_type": "code",
   "execution_count": 1899,
   "id": "ba6c8c55",
   "metadata": {},
   "outputs": [
    {
     "name": "stdout",
     "output_type": "stream",
     "text": [
      "[[213  34]\n",
      " [129 477]]\n",
      "敏感度TPR：0.622807，特异度TNR：0.933464，ACC：0.808910，AUC：0.891761,MCC：0.601070,F1：0.854073\n",
      "[[44 27]\n",
      " [46 96]]\n",
      "敏感度TPR：0.488889，特异度TNR：0.780488，ACC：0.657277，AUC：0.726423,MCC：0.282267,F1：0.724528\n",
      "test4\n",
      "[[ 57  40]\n",
      " [ 51 118]]\n",
      "敏感度TPR：0.527778，特异度TNR：0.746835，ACC：0.657895，AUC：0.744462,MCC：0.280177,F1：0.721713\n"
     ]
    }
   ],
   "source": [
    "i=4\n",
    "rf4=RandomForestClassifier(n_estimators=20)#,max_depth=20,max_features=8)#(min_samples_leaf=6, n_estimators=31)#max_depth=12,min_samples_split=10,max_features=25 )#, min_samples_split=5,  \n",
    "                                 #min_samples_leaf=6,max_features=25 ,oob_score=True, random_state=10)\n",
    "val_data= x_train[i*num_samples:(i+1)*num_samples,:]\n",
    "val_label= train_labels[i * num_samples:(i + 1) * num_samples]\n",
    "train_data=np.concatenate([x_train[:i*num_samples,:],x_train[(i+1)*num_samples:,:]],axis=0)\n",
    "train_label = np.concatenate([train_labels[:i*num_samples], train_labels[(i + 1) * num_samples:]], axis=0)\n",
    "rf4.fit(train_data,train_label)\n",
    "pre_rf=rf1.predict_proba(train_data)\n",
    "acc1=analyze(pre_rf,train_label)\n",
    "pre_rf=rf4.predict_proba(val_data)\n",
    "acc4=analyze(pre_rf,val_label)\n",
    "print('test4')\n",
    "probarf4=rf4.predict_proba(x_test)\n",
    "analyze(probarf4,test_labels)"
   ]
  },
  {
   "cell_type": "code",
   "execution_count": 1611,
   "id": "7171a5f7",
   "metadata": {},
   "outputs": [
    {
     "name": "stdout",
     "output_type": "stream",
     "text": [
      "[[ 57  50]\n",
      " [ 51 108]]\n",
      "敏感度TPR：0.527778，特异度TNR：0.683544，ACC：0.620301，AUC：0.681991,MCC：0.211639,F1：0.681388\n",
      "[[ 64  41]\n",
      " [ 44 117]]\n",
      "敏感度TPR：0.592593，特异度TNR：0.740506，ACC：0.680451，AUC：0.709271,MCC：0.334662,F1：0.733542\n",
      "[[ 62  39]\n",
      " [ 46 119]]\n",
      "敏感度TPR：0.574074，特异度TNR：0.753165，ACC：0.680451，AUC：0.741063,MCC：0.331133,F1：0.736842\n",
      "[[ 56  38]\n",
      " [ 52 120]]\n",
      "敏感度TPR：0.518519，特异度TNR：0.759494，ACC：0.661654，AUC：0.724713,MCC：0.285612,F1：0.727273\n",
      "[[ 61  34]\n",
      " [ 47 124]]\n",
      "敏感度TPR：0.564815，特异度TNR：0.784810，ACC：0.695489，AUC：0.733122,MCC：0.358330,F1：0.753799\n",
      "test_all\n",
      "[[ 56  34]\n",
      " [ 52 124]]\n",
      "敏感度TPR：0.518519，特异度TNR：0.784810，ACC：0.676692，AUC：0.743905,MCC：0.314830,F1：0.742515\n"
     ]
    }
   ],
   "source": [
    "analyze(probarf0,test_labels)\n",
    "analyze(probarf1,test_labels)\n",
    "analyze(probarf2,test_labels)\n",
    "analyze(probarf3,test_labels)\n",
    "analyze(probarf4,test_labels)\n",
    "\n",
    "\n",
    "print('test_all')\n",
    "probarf_test=(probarf0+probarf1+probarf2+probarf3+probarf4)/5.0\n",
    "#probarf=(probarf1+probarf2+probarf3+probarf4)/5.0\n",
    "aa=analyze(probarf_test,test_labels)"
   ]
  },
  {
   "cell_type": "code",
   "execution_count": null,
   "id": "d481096c",
   "metadata": {},
   "outputs": [],
   "source": []
  },
  {
   "cell_type": "code",
   "execution_count": null,
   "id": "08fc1d42",
   "metadata": {},
   "outputs": [],
   "source": []
  },
  {
   "cell_type": "code",
   "execution_count": null,
   "id": "0d66b77e",
   "metadata": {},
   "outputs": [],
   "source": []
  },
  {
   "cell_type": "code",
   "execution_count": null,
   "id": "02b514f1",
   "metadata": {},
   "outputs": [],
   "source": []
  },
  {
   "cell_type": "code",
   "execution_count": null,
   "id": "dcb25eff",
   "metadata": {},
   "outputs": [],
   "source": []
  },
  {
   "cell_type": "code",
   "execution_count": null,
   "id": "c336d0e1",
   "metadata": {},
   "outputs": [],
   "source": []
  },
  {
   "cell_type": "code",
   "execution_count": null,
   "id": "4c9535aa",
   "metadata": {},
   "outputs": [],
   "source": []
  },
  {
   "cell_type": "code",
   "execution_count": null,
   "id": "4d4259bf",
   "metadata": {},
   "outputs": [],
   "source": []
  },
  {
   "cell_type": "code",
   "execution_count": null,
   "id": "5ee72960",
   "metadata": {},
   "outputs": [],
   "source": []
  },
  {
   "cell_type": "code",
   "execution_count": null,
   "id": "17a0bba4",
   "metadata": {},
   "outputs": [],
   "source": []
  },
  {
   "cell_type": "code",
   "execution_count": null,
   "id": "ec70aa45",
   "metadata": {},
   "outputs": [],
   "source": []
  },
  {
   "cell_type": "code",
   "execution_count": 1431,
   "id": "61afc138",
   "metadata": {},
   "outputs": [],
   "source": [
    "import pickle\n",
    "def save_model(name,model):\n",
    "    model_name=name+'.pkl'\n",
    "    with open(model_name, 'ab') as f:\n",
    "        pickle.dump(model, f)\n",
    "# save_model('t_2_rf02',rf0)\n",
    "# save_model('t_2_rf12',rf1)\n",
    "# save_model('t_2_rf22',rf2)\n",
    "# save_model('t_2_rf32',rf3)\n",
    "# save_model('t_2_rf42',rf4)"
   ]
  },
  {
   "cell_type": "code",
   "execution_count": null,
   "id": "af5df630",
   "metadata": {},
   "outputs": [],
   "source": []
  },
  {
   "cell_type": "code",
   "execution_count": 1218,
   "id": "c9362658",
   "metadata": {},
   "outputs": [
    {
     "name": "stdout",
     "output_type": "stream",
     "text": [
      "[[ 68  45]\n",
      " [ 40 113]]\n",
      "敏感度TPR：0.629630，特异度TNR：0.715190，ACC：0.680451，AUC：0.747539,MCC：0.342568,F1：0.726688\n"
     ]
    }
   ],
   "source": [
    "xg=XGBClassifier(n_estimators=200,max_depth=12,learning_rate=0.06)\n",
    "xg.fit(x_train,train_labels)\n",
    "pre_xg=xg.predict_proba(x_test)\n",
    "analyze(pre_xg,test_labels)"
   ]
  },
  {
   "cell_type": "code",
   "execution_count": 1213,
   "id": "e6b14c84",
   "metadata": {},
   "outputs": [
    {
     "name": "stdout",
     "output_type": "stream",
     "text": [
      "[[ 69  40]\n",
      " [ 39 118]]\n",
      "敏感度TPR：0.638889，特异度TNR：0.746835，ACC：0.703008，AUC：0.754864,MCC：0.385172,F1：0.749206\n"
     ]
    }
   ],
   "source": [
    "xg=XGBClassifier(n_estimators=200,max_depth=12,learning_rate=0.050)\n",
    "xg.fit(x_train,train_labels)\n",
    "pre_xg=xg.predict_proba(x_test)\n",
    "analyze(pre_xg,test_labels)"
   ]
  },
  {
   "cell_type": "code",
   "execution_count": null,
   "id": "7052d268",
   "metadata": {},
   "outputs": [],
   "source": []
  },
  {
   "cell_type": "code",
   "execution_count": 1612,
   "id": "0a4be59f",
   "metadata": {},
   "outputs": [
    {
     "name": "stdout",
     "output_type": "stream",
     "text": [
      "[[ 43  23]\n",
      " [ 36 111]]\n",
      "敏感度TPR：0.544304，特异度TNR：0.828358，ACC：0.723005，AUC：0.770829,MCC：0.389270,F1：0.790036\n",
      "test\n",
      "[[ 67  43]\n",
      " [ 41 115]]\n",
      "敏感度TPR：0.620370，特异度TNR：0.727848，ACC：0.684211，AUC：0.720816,MCC：0.347243,F1：0.732484\n"
     ]
    }
   ],
   "source": [
    "i=0\n",
    "xg0=XGBClassifier(n_estimators=200,max_depth=12,learning_rate=0.050)#,max_depth=5)#n_estimators=210)#,max_depth=7,learning_rate=0.105)\n",
    "val_data= x_train[i*num_samples:(i+1)*num_samples,:]\n",
    "val_label= train_labels[i * num_samples:(i + 1) * num_samples]\n",
    "train_data=np.concatenate([x_train[:i*num_samples,:],x_train[(i+1)*num_samples:,:]],axis=0)\n",
    "train_label = np.concatenate([train_labels[:i*num_samples], train_labels[(i + 1) * num_samples:]], axis=0)\n",
    "xg0.fit(train_data,train_label)\n",
    "pre_xg=xg0.predict_proba(val_data)\n",
    "analyze(pre_xg,val_label)\n",
    "print('test')\n",
    "pre_xg0=xg0.predict_proba(x_test)\n",
    "analyze(pre_xg0,test_labels)"
   ]
  },
  {
   "cell_type": "code",
   "execution_count": 1733,
   "id": "360234a0",
   "metadata": {},
   "outputs": [
    {
     "name": "stdout",
     "output_type": "stream",
     "text": [
      "[[60 23]\n",
      " [36 94]]\n",
      "敏感度TPR：0.625000，特异度TNR：0.803419，ACC：0.723005，AUC：0.744035,MCC：0.437106,F1：0.761134\n",
      "test\n",
      "[[ 64  37]\n",
      " [ 44 121]]\n",
      "敏感度TPR：0.592593，特异度TNR：0.765823，ACC：0.695489，AUC：0.748183,MCC：0.362681,F1：0.749226\n"
     ]
    }
   ],
   "source": [
    "i=1\n",
    "xg1=XGBClassifier(n_estimators=200,max_depth=12,learning_rate=0.050)#,max_depth=5)#n_estimators=210)#,max_depth=7,learning_rate=0.105)\n",
    "val_data= x_train[i*num_samples:(i+1)*num_samples,:]\n",
    "val_label= train_labels[i * num_samples:(i + 1) * num_samples]\n",
    "train_data=np.concatenate([x_train[:i*num_samples,:],x_train[(i+1)*num_samples:,:]],axis=0)\n",
    "train_label = np.concatenate([train_labels[:i*num_samples], train_labels[(i + 1) * num_samples:]], axis=0)\n",
    "xg1.fit(train_data,train_label)\n",
    "pre_xg=xg1.predict_proba(val_data)\n",
    "analyze(pre_xg,val_label)\n",
    "print('test')\n",
    "pre_xg1=xg1.predict_proba(x_test)\n",
    "analyze(pre_xg1,test_labels)"
   ]
  },
  {
   "cell_type": "code",
   "execution_count": 1615,
   "id": "3c78bdc8",
   "metadata": {},
   "outputs": [
    {
     "name": "stdout",
     "output_type": "stream",
     "text": [
      "[[ 43  30]\n",
      " [ 31 109]]\n",
      "敏感度TPR：0.581081，特异度TNR：0.784173，ACC：0.713615，AUC：0.779312,MCC：0.366431,F1：0.781362\n",
      "test\n",
      "[[ 65  50]\n",
      " [ 43 108]]\n",
      "敏感度TPR：0.601852，特异度TNR：0.683544，ACC：0.650376，AUC：0.728200,MCC：0.282912,F1：0.699029\n"
     ]
    }
   ],
   "source": [
    "i=2\n",
    "xg2=XGBClassifier(n_estimators=200,max_depth=12,learning_rate=0.050)#,max_depth=5)#n_estimators=210)#,max_depth=7,learning_rate=0.105)\n",
    "val_data= x_train[i*num_samples:(i+1)*num_samples,:]\n",
    "val_label= train_labels[i * num_samples:(i + 1) * num_samples]\n",
    "train_data=np.concatenate([x_train[:i*num_samples,:],x_train[(i+1)*num_samples:,:]],axis=0)\n",
    "train_label = np.concatenate([train_labels[:i*num_samples], train_labels[(i + 1) * num_samples:]], axis=0)\n",
    "xg2.fit(train_data,train_label)\n",
    "pre_xg=xg2.predict_proba(val_data)\n",
    "analyze(pre_xg,val_label)\n",
    "print('test')\n",
    "pre_xg2=xg2.predict_proba(x_test)\n",
    "analyze(pre_xg2,test_labels)"
   ]
  },
  {
   "cell_type": "code",
   "execution_count": 1616,
   "id": "0b31dc0e",
   "metadata": {},
   "outputs": [
    {
     "name": "stdout",
     "output_type": "stream",
     "text": [
      "[[ 42  20]\n",
      " [ 51 100]]\n",
      "敏感度TPR：0.451613，特异度TNR：0.833333，ACC：0.666667，AUC：0.777957,MCC：0.311108,F1：0.738007\n",
      "test\n",
      "[[ 59  34]\n",
      " [ 49 124]]\n",
      "敏感度TPR：0.546296，特异度TNR：0.784810，ACC：0.687970，AUC：0.749531,MCC：0.340991,F1：0.749245\n"
     ]
    }
   ],
   "source": [
    "i=3\n",
    "xg3=XGBClassifier(n_estimators=200,max_depth=12,learning_rate=0.050)#,max_depth=5)#n_estimators=210)#,max_depth=7,learning_rate=0.105)\n",
    "val_data= x_train[i*num_samples:(i+1)*num_samples,:]\n",
    "val_label= train_labels[i * num_samples:(i + 1) * num_samples]\n",
    "train_data=np.concatenate([x_train[:i*num_samples,:],x_train[(i+1)*num_samples:,:]],axis=0)\n",
    "train_label = np.concatenate([train_labels[:i*num_samples], train_labels[(i + 1) * num_samples:]], axis=0)\n",
    "xg3.fit(train_data,train_label)\n",
    "pre_xg=xg3.predict_proba(val_data)\n",
    "analyze(pre_xg,val_label)\n",
    "print('test')\n",
    "pre_xg3=xg3.predict_proba(x_test)\n",
    "analyze(pre_xg3,test_labels)"
   ]
  },
  {
   "cell_type": "code",
   "execution_count": 1617,
   "id": "4bcb201d",
   "metadata": {},
   "outputs": [
    {
     "name": "stdout",
     "output_type": "stream",
     "text": [
      "[[51 27]\n",
      " [39 96]]\n",
      "敏感度TPR：0.566667，特异度TNR：0.780488，ACC：0.690141，AUC：0.746612,MCC：0.355945,F1：0.744186\n",
      "test\n",
      "[[ 63  39]\n",
      " [ 45 119]]\n",
      "敏感度TPR：0.583333，特异度TNR：0.753165，ACC：0.684211，AUC：0.752286,MCC：0.339861,F1：0.739130\n"
     ]
    }
   ],
   "source": [
    "i=4\n",
    "xg4=XGBClassifier(n_estimators=200,max_depth=12,learning_rate=0.050)#,max_depth=5)#n_estimators=210)#,max_depth=7,learning_rate=0.105)\n",
    "val_data= x_train[i*num_samples:(i+1)*num_samples,:]\n",
    "val_label= train_labels[i * num_samples:(i + 1) * num_samples]\n",
    "train_data=np.concatenate([x_train[:i*num_samples,:],x_train[(i+1)*num_samples:,:]],axis=0)\n",
    "train_label = np.concatenate([train_labels[:i*num_samples], train_labels[(i + 1) * num_samples:]], axis=0)\n",
    "xg4.fit(train_data,train_label)\n",
    "pre_xg=xg4.predict_proba(val_data)\n",
    "analyze(pre_xg,val_label)\n",
    "print('test')\n",
    "pre_xg4=xg4.predict_proba(x_test)\n",
    "analyze(pre_xg4,test_labels)"
   ]
  },
  {
   "cell_type": "code",
   "execution_count": 1258,
   "id": "e1631761",
   "metadata": {},
   "outputs": [
    {
     "name": "stdout",
     "output_type": "stream",
     "text": [
      "[[ 59  33]\n",
      " [ 49 125]]\n",
      "敏感度TPR：0.546296，特异度TNR：0.791139，ACC：0.691729，AUC：0.764299,MCC：0.348388,F1：0.753012\n"
     ]
    }
   ],
   "source": [
    "gbm = GradientBoostingClassifier(n_estimators=70)\n",
    "gbm.fit(x_train,train_labels)\n",
    "pre_gbm=gbm.predict_proba(x_test)\n",
    "analyze(pre_gbm,test_labels)"
   ]
  },
  {
   "cell_type": "code",
   "execution_count": 1746,
   "id": "65b02203",
   "metadata": {},
   "outputs": [
    {
     "name": "stdout",
     "output_type": "stream",
     "text": [
      "[[ 38  22]\n",
      " [ 41 112]]\n",
      "敏感度TPR：0.481013，特异度TNR：0.835821，ACC：0.704225，AUC：0.718307,MCC：0.340232,F1：0.780488\n",
      "test\n",
      "[[ 62  36]\n",
      " [ 46 122]]\n",
      "敏感度TPR：0.574074，特异度TNR：0.772152，ACC：0.691729，AUC：0.740741,MCC：0.352478,F1：0.748466\n"
     ]
    }
   ],
   "source": [
    "i=0\n",
    "gbm0=GradientBoostingClassifier(n_estimators=70)\n",
    "val_data= x_train[i*num_samples:(i+1)*num_samples,:]\n",
    "val_label= train_labels[i * num_samples:(i + 1) * num_samples]\n",
    "train_data=np.concatenate([x_train[:i*num_samples,:],x_train[(i+1)*num_samples:,:]],axis=0)\n",
    "train_label = np.concatenate([train_labels[:i*num_samples], train_labels[(i + 1) * num_samples:]], axis=0)\n",
    "gbm0.fit(train_data,train_label)\n",
    "pre_xg=gbm0.predict_proba(val_data)\n",
    "analyze(pre_xg,val_label)\n",
    "print('test')\n",
    "pre_gbm0=gbm0.predict_proba(x_test)\n",
    "analyze(pre_gbm0,test_labels)"
   ]
  },
  {
   "cell_type": "code",
   "execution_count": 1619,
   "id": "1063f3bd",
   "metadata": {},
   "outputs": [
    {
     "name": "stdout",
     "output_type": "stream",
     "text": [
      "[[44 23]\n",
      " [52 94]]\n",
      "敏感度TPR：0.458333，特异度TNR：0.803419，ACC：0.647887，AUC：0.688925,MCC：0.280482,F1：0.714829\n",
      "test\n",
      "[[ 54  32]\n",
      " [ 54 126]]\n",
      "敏感度TPR：0.500000，特异度TNR：0.797468，ACC：0.676692，AUC：0.740038,MCC：0.312317,F1：0.745562\n"
     ]
    }
   ],
   "source": [
    "i=1\n",
    "gbm1=GradientBoostingClassifier(n_estimators=70)\n",
    "val_data= x_train[i*num_samples:(i+1)*num_samples,:]\n",
    "val_label= train_labels[i * num_samples:(i + 1) * num_samples]\n",
    "train_data=np.concatenate([x_train[:i*num_samples,:],x_train[(i+1)*num_samples:,:]],axis=0)\n",
    "train_label = np.concatenate([train_labels[:i*num_samples], train_labels[(i + 1) * num_samples:]], axis=0)\n",
    "gbm1.fit(train_data,train_label)\n",
    "pre_xg=gbm1.predict_proba(val_data)\n",
    "analyze(pre_xg,val_label)\n",
    "print('test')\n",
    "pre_gbm1=gbm1.predict_proba(x_test)\n",
    "analyze(pre_gbm1,test_labels)"
   ]
  },
  {
   "cell_type": "code",
   "execution_count": 1743,
   "id": "b99e0763",
   "metadata": {},
   "outputs": [
    {
     "name": "stdout",
     "output_type": "stream",
     "text": [
      "[[ 35  24]\n",
      " [ 39 115]]\n",
      "敏感度TPR：0.472973，特异度TNR：0.827338，ACC：0.704225，AUC：0.722001,MCC：0.319528,F1：0.784983\n",
      "test\n",
      "[[ 61  40]\n",
      " [ 47 118]]\n",
      "敏感度TPR：0.564815，特异度TNR：0.746835，ACC：0.672932，AUC：0.744814,MCC：0.315359,F1：0.730650\n"
     ]
    }
   ],
   "source": [
    "i=2\n",
    "gbm2=GradientBoostingClassifier(n_estimators=70)\n",
    "val_data= x_train[i*num_samples:(i+1)*num_samples,:]\n",
    "val_label= train_labels[i * num_samples:(i + 1) * num_samples]\n",
    "train_data=np.concatenate([x_train[:i*num_samples,:],x_train[(i+1)*num_samples:,:]],axis=0)\n",
    "train_label = np.concatenate([train_labels[:i*num_samples], train_labels[(i + 1) * num_samples:]], axis=0)\n",
    "gbm2.fit(train_data,train_label)\n",
    "pre_xg=gbm2.predict_proba(val_data)\n",
    "analyze(pre_xg,val_label)\n",
    "print('test')\n",
    "pre_gbm2=gbm2.predict_proba(x_test)\n",
    "analyze(pre_gbm2,test_labels)"
   ]
  },
  {
   "cell_type": "code",
   "execution_count": 1621,
   "id": "2819bfdc",
   "metadata": {},
   "outputs": [
    {
     "name": "stdout",
     "output_type": "stream",
     "text": [
      "[[ 32  13]\n",
      " [ 61 107]]\n",
      "敏感度TPR：0.344086，特异度TNR：0.891667，ACC：0.652582，AUC：0.732348,MCC：0.286436,F1：0.743056\n",
      "test\n",
      "[[ 49  31]\n",
      " [ 59 127]]\n",
      "敏感度TPR：0.453704，特异度TNR：0.803797，ACC：0.661654，AUC：0.729723,MCC：0.275752,F1：0.738372\n"
     ]
    }
   ],
   "source": [
    "i=3\n",
    "gbm3=GradientBoostingClassifier(n_estimators=70)\n",
    "val_data= x_train[i*num_samples:(i+1)*num_samples,:]\n",
    "val_label= train_labels[i * num_samples:(i + 1) * num_samples]\n",
    "train_data=np.concatenate([x_train[:i*num_samples,:],x_train[(i+1)*num_samples:,:]],axis=0)\n",
    "train_label = np.concatenate([train_labels[:i*num_samples], train_labels[(i + 1) * num_samples:]], axis=0)\n",
    "gbm3.fit(train_data,train_label)\n",
    "pre_xg=gbm3.predict_proba(val_data)\n",
    "analyze(pre_xg,val_label)\n",
    "print('test')\n",
    "pre_gbm3=gbm3.predict_proba(x_test)\n",
    "analyze(pre_gbm3,test_labels)"
   ]
  },
  {
   "cell_type": "code",
   "execution_count": 1622,
   "id": "c6bef0cb",
   "metadata": {},
   "outputs": [
    {
     "name": "stdout",
     "output_type": "stream",
     "text": [
      "[[ 34  20]\n",
      " [ 56 103]]\n",
      "敏感度TPR：0.377778，特异度TNR：0.837398，ACC：0.643192，AUC：0.743541,MCC：0.244328,F1：0.730496\n",
      "test\n",
      "[[ 54  28]\n",
      " [ 54 130]]\n",
      "敏感度TPR：0.500000，特异度TNR：0.822785，ACC：0.691729，AUC：0.767727,MCC：0.343271,F1：0.760234\n"
     ]
    }
   ],
   "source": [
    "i=4\n",
    "gbm4=GradientBoostingClassifier(n_estimators=70)\n",
    "val_data= x_train[i*num_samples:(i+1)*num_samples,:]\n",
    "val_label= train_labels[i * num_samples:(i + 1) * num_samples]\n",
    "train_data=np.concatenate([x_train[:i*num_samples,:],x_train[(i+1)*num_samples:,:]],axis=0)\n",
    "train_label = np.concatenate([train_labels[:i*num_samples], train_labels[(i + 1) * num_samples:]], axis=0)\n",
    "gbm4.fit(train_data,train_label)\n",
    "pre_xg=gbm4.predict_proba(val_data)\n",
    "analyze(pre_xg,val_label)\n",
    "print('test')\n",
    "pre_gbm4=gbm4.predict_proba(x_test)\n",
    "analyze(pre_gbm4,test_labels)"
   ]
  },
  {
   "cell_type": "code",
   "execution_count": 1353,
   "id": "be606580",
   "metadata": {},
   "outputs": [
    {
     "name": "stdout",
     "output_type": "stream",
     "text": [
      "[[ 59  32]\n",
      " [ 49 126]]\n",
      "敏感度TPR：0.546296，特异度TNR：0.797468，ACC：0.695489，AUC：0.756388,MCC：0.355846,F1：0.756757\n"
     ]
    }
   ],
   "source": [
    "clf = SVC(probability=True,C=3,gamma=0.0015)#,gamma=0.00005,kernel='rbf',)\n",
    "clf.fit(x_train,train_labels)\n",
    "pre_clf=clf.predict_proba(x_test)\n",
    "analyze(pre_clf,test_labels)"
   ]
  },
  {
   "cell_type": "code",
   "execution_count": 1635,
   "id": "db409108",
   "metadata": {},
   "outputs": [
    {
     "name": "stdout",
     "output_type": "stream",
     "text": [
      "[[ 38  20]\n",
      " [ 41 114]]\n",
      "敏感度TPR：0.481013，特异度TNR：0.850746，ACC：0.713615，AUC：0.743151,MCC：0.360005,F1：0.788927\n",
      "test\n",
      "[[ 57  33]\n",
      " [ 51 125]]\n",
      "敏感度TPR：0.527778，特异度TNR：0.791139，ACC：0.684211，AUC：0.748183,MCC：0.331010,F1：0.748503\n"
     ]
    }
   ],
   "source": [
    "i=0\n",
    "clf0 = SVC(probability=True,C=3,gamma=0.0015)\n",
    "val_data= x_train[i*num_samples:(i+1)*num_samples,:]\n",
    "val_label= train_labels[i * num_samples:(i + 1) * num_samples]\n",
    "train_data=np.concatenate([x_train[:i*num_samples,:],x_train[(i+1)*num_samples:,:]],axis=0)\n",
    "train_label = np.concatenate([train_labels[:i*num_samples], train_labels[(i + 1) * num_samples:]], axis=0)\n",
    "clf0.fit(train_data,train_label)\n",
    "pre_clf=clf0.predict_proba(val_data)\n",
    "analyze(pre_clf,val_label)\n",
    "print('test')\n",
    "pre_clf0=clf0.predict_proba(x_test)\n",
    "analyze(pre_clf0,test_labels)"
   ]
  },
  {
   "cell_type": "code",
   "execution_count": 1629,
   "id": "0accf547",
   "metadata": {},
   "outputs": [
    {
     "name": "stdout",
     "output_type": "stream",
     "text": [
      "[[49 26]\n",
      " [47 91]]\n",
      "敏感度TPR：0.510417，特异度TNR：0.777778，ACC：0.657277，AUC：0.703526,MCC：0.300223,F1：0.713725\n",
      "test\n",
      "[[ 58  32]\n",
      " [ 50 126]]\n",
      "敏感度TPR：0.537037，特异度TNR：0.797468，ACC：0.691729，AUC：0.753047,MCC：0.347189,F1：0.754491\n"
     ]
    }
   ],
   "source": [
    "i=1\n",
    "clf1 = SVC(probability=True,C=3,gamma=0.0015)\n",
    "val_data= x_train[i*num_samples:(i+1)*num_samples,:]\n",
    "val_label= train_labels[i * num_samples:(i + 1) * num_samples]\n",
    "train_data=np.concatenate([x_train[:i*num_samples,:],x_train[(i+1)*num_samples:,:]],axis=0)\n",
    "train_label = np.concatenate([train_labels[:i*num_samples], train_labels[(i + 1) * num_samples:]], axis=0)\n",
    "clf1.fit(train_data,train_label)\n",
    "pre_clf=clf1.predict_proba(val_data)\n",
    "analyze(pre_clf,val_label)\n",
    "print('test')\n",
    "pre_clf1=clf1.predict_proba(x_test)\n",
    "analyze(pre_clf1,test_labels)"
   ]
  },
  {
   "cell_type": "code",
   "execution_count": 1630,
   "id": "dac9e595",
   "metadata": {},
   "outputs": [
    {
     "name": "stdout",
     "output_type": "stream",
     "text": [
      "[[ 40  30]\n",
      " [ 34 109]]\n",
      "敏感度TPR：0.540541，特异度TNR：0.784173，ACC：0.699531，AUC：0.767256,MCC：0.329159,F1：0.773050\n",
      "test\n",
      "[[ 61  35]\n",
      " [ 47 123]]\n",
      "敏感度TPR：0.564815，特异度TNR：0.778481，ACC：0.691729，AUC：0.756271,MCC：0.351034,F1：0.750000\n"
     ]
    }
   ],
   "source": [
    "i=2\n",
    "clf2 = SVC(probability=True,C=3,gamma=0.0015)\n",
    "val_data= x_train[i*num_samples:(i+1)*num_samples,:]\n",
    "val_label= train_labels[i * num_samples:(i + 1) * num_samples]\n",
    "train_data=np.concatenate([x_train[:i*num_samples,:],x_train[(i+1)*num_samples:,:]],axis=0)\n",
    "train_label = np.concatenate([train_labels[:i*num_samples], train_labels[(i + 1) * num_samples:]], axis=0)\n",
    "clf2.fit(train_data,train_label)\n",
    "pre_clf=clf2.predict_proba(val_data)\n",
    "analyze(pre_clf,val_label)\n",
    "print('test')\n",
    "pre_clf2=clf2.predict_proba(x_test)\n",
    "analyze(pre_clf2,test_labels)"
   ]
  },
  {
   "cell_type": "code",
   "execution_count": 1638,
   "id": "3a768271",
   "metadata": {},
   "outputs": [
    {
     "name": "stdout",
     "output_type": "stream",
     "text": [
      "[[ 38  18]\n",
      " [ 55 102]]\n",
      "敏感度TPR：0.408602，特异度TNR：0.850000，ACC：0.657277，AUC：0.705869,MCC：0.291354,F1：0.736462\n",
      "test\n",
      "[[ 54  30]\n",
      " [ 54 128]]\n",
      "敏感度TPR：0.500000，特异度TNR：0.810127，ACC：0.684211，AUC：0.740038,MCC：0.327645,F1：0.752941\n"
     ]
    }
   ],
   "source": [
    "i=3\n",
    "clf3 = SVC(probability=True,C=3,gamma=0.0015)\n",
    "val_data= x_train[i*num_samples:(i+1)*num_samples,:]\n",
    "val_label= train_labels[i * num_samples:(i + 1) * num_samples]\n",
    "train_data=np.concatenate([x_train[:i*num_samples,:],x_train[(i+1)*num_samples:,:]],axis=0)\n",
    "train_label = np.concatenate([train_labels[:i*num_samples], train_labels[(i + 1) * num_samples:]], axis=0)\n",
    "clf3.fit(train_data,train_label)\n",
    "pre_clf=clf3.predict_proba(val_data)\n",
    "analyze(pre_clf,val_label)\n",
    "print('test')\n",
    "pre_clf3=clf3.predict_proba(x_test)\n",
    "analyze(pre_clf3,test_labels)"
   ]
  },
  {
   "cell_type": "code",
   "execution_count": 1637,
   "id": "18a44b85",
   "metadata": {},
   "outputs": [
    {
     "name": "stdout",
     "output_type": "stream",
     "text": [
      "[[51 27]\n",
      " [39 96]]\n",
      "敏感度TPR：0.566667，特异度TNR：0.780488，ACC：0.690141，AUC：0.742276,MCC：0.355945,F1：0.744186\n",
      "test\n",
      "[[ 61  34]\n",
      " [ 47 124]]\n",
      "敏感度TPR：0.564815，特异度TNR：0.784810，ACC：0.695489，AUC：0.772797,MCC：0.358330,F1：0.753799\n"
     ]
    }
   ],
   "source": [
    "i=4\n",
    "clf4 = SVC(probability=True,C=3,gamma=0.0015)\n",
    "val_data= x_train[i*num_samples:(i+1)*num_samples,:]\n",
    "val_label= train_labels[i * num_samples:(i + 1) * num_samples]\n",
    "train_data=np.concatenate([x_train[:i*num_samples,:],x_train[(i+1)*num_samples:,:]],axis=0)\n",
    "train_label = np.concatenate([train_labels[:i*num_samples], train_labels[(i + 1) * num_samples:]], axis=0)\n",
    "clf4.fit(train_data,train_label)\n",
    "pre_clf=clf4.predict_proba(val_data)\n",
    "analyze(pre_clf,val_label)\n",
    "print('test')\n",
    "pre_clf4=clf4.predict_proba(x_test)\n",
    "analyze(pre_clf4,test_labels)"
   ]
  },
  {
   "cell_type": "code",
   "execution_count": null,
   "id": "5c3c39bb",
   "metadata": {},
   "outputs": [],
   "source": []
  },
  {
   "cell_type": "code",
   "execution_count": null,
   "id": "06eec5f5",
   "metadata": {},
   "outputs": [],
   "source": [
    "gbm = GradientBoostingClassifier(n_estimators=70)\n",
    "gbm.fit(x_train,train_labels)\n",
    "pre_gbm=gbm.predict_proba(x_test)\n",
    "analyze(pre_gbm,test_labels)"
   ]
  },
  {
   "cell_type": "code",
   "execution_count": null,
   "id": "88995856",
   "metadata": {},
   "outputs": [],
   "source": []
  },
  {
   "cell_type": "code",
   "execution_count": 1486,
   "id": "8b0a9c74",
   "metadata": {},
   "outputs": [],
   "source": [
    "from sklearn.tree import DecisionTreeClassifier"
   ]
  },
  {
   "cell_type": "code",
   "execution_count": 1539,
   "id": "9d056b7d",
   "metadata": {},
   "outputs": [
    {
     "name": "stdout",
     "output_type": "stream",
     "text": [
      "[[ 55  32]\n",
      " [ 53 126]]\n",
      "敏感度TPR：0.509259，特异度TNR：0.797468，ACC：0.680451，AUC：0.679970,MCC：0.321075,F1：0.747774\n"
     ]
    }
   ],
   "source": [
    "model = DecisionTreeClassifier(max_depth=5,criterion = 'gini',min_samples_split = 20)\n",
    "model.fit(x_train,train_labels)\n",
    "pre_cart = model.predict_proba(x_test)\n",
    "analyze(pre_cart,test_labels)"
   ]
  },
  {
   "cell_type": "code",
   "execution_count": 1640,
   "id": "b0e631a0",
   "metadata": {},
   "outputs": [
    {
     "name": "stdout",
     "output_type": "stream",
     "text": [
      "[[ 36  28]\n",
      " [ 43 106]]\n",
      "敏感度TPR：0.455696，特异度TNR：0.791045，ACC：0.666667，AUC：0.662054,MCC：0.259971,F1：0.749117\n",
      "test\n",
      "[[ 54  39]\n",
      " [ 54 119]]\n",
      "敏感度TPR：0.500000，特异度TNR：0.753165，ACC：0.650376，AUC：0.637482,MCC：0.260723,F1：0.719033\n"
     ]
    }
   ],
   "source": [
    "i=0\n",
    "cart0 = DecisionTreeClassifier(max_depth=5,criterion = 'gini',min_samples_split = 20)\n",
    "val_data= x_train[i*num_samples:(i+1)*num_samples,:]\n",
    "val_label= train_labels[i * num_samples:(i + 1) * num_samples]\n",
    "train_data=np.concatenate([x_train[:i*num_samples,:],x_train[(i+1)*num_samples:,:]],axis=0)\n",
    "train_label = np.concatenate([train_labels[:i*num_samples], train_labels[(i + 1) * num_samples:]], axis=0)\n",
    "cart0.fit(train_data,train_label)\n",
    "pre_clf=cart0.predict_proba(val_data)\n",
    "analyze(pre_clf,val_label)\n",
    "print('test')\n",
    "pre_cart0=cart0.predict_proba(x_test)\n",
    "analyze(pre_cart0,test_labels)"
   ]
  },
  {
   "cell_type": "code",
   "execution_count": 1642,
   "id": "495bda9a",
   "metadata": {},
   "outputs": [
    {
     "name": "stdout",
     "output_type": "stream",
     "text": [
      "[[38 24]\n",
      " [58 93]]\n",
      "敏感度TPR：0.395833，特异度TNR：0.794872，ACC：0.615023，AUC：0.656962,MCC：0.208885,F1：0.694030\n",
      "test\n",
      "[[ 46  31]\n",
      " [ 62 127]]\n",
      "敏感度TPR：0.425926，特异度TNR：0.803797，ACC：0.650376，AUC：0.674197,MCC：0.248754,F1：0.731988\n"
     ]
    }
   ],
   "source": [
    "i=1\n",
    "cart1 = DecisionTreeClassifier(max_depth=5,criterion = 'gini',min_samples_split = 20)\n",
    "val_data= x_train[i*num_samples:(i+1)*num_samples,:]\n",
    "val_label= train_labels[i * num_samples:(i + 1) * num_samples]\n",
    "train_data=np.concatenate([x_train[:i*num_samples,:],x_train[(i+1)*num_samples:,:]],axis=0)\n",
    "train_label = np.concatenate([train_labels[:i*num_samples], train_labels[(i + 1) * num_samples:]], axis=0)\n",
    "cart1.fit(train_data,train_label)\n",
    "pre_clf=cart1.predict_proba(val_data)\n",
    "analyze(pre_clf,val_label)\n",
    "print('test')\n",
    "pre_cart1=cart1.predict_proba(x_test)\n",
    "analyze(pre_cart1,test_labels)"
   ]
  },
  {
   "cell_type": "code",
   "execution_count": 1646,
   "id": "4b3b2038",
   "metadata": {},
   "outputs": [
    {
     "name": "stdout",
     "output_type": "stream",
     "text": [
      "[[ 32  22]\n",
      " [ 42 117]]\n",
      "敏感度TPR：0.432432，特异度TNR：0.841727，ACC：0.699531，AUC：0.692397,MCC：0.300075,F1：0.785235\n",
      "test\n",
      "[[ 50  33]\n",
      " [ 58 125]]\n",
      "敏感度TPR：0.462963，特异度TNR：0.791139，ACC：0.657895，AUC：0.654448,MCC：0.269330,F1：0.733138\n"
     ]
    }
   ],
   "source": [
    "i=2\n",
    "cart2 = DecisionTreeClassifier(max_depth=5,criterion = 'gini',min_samples_split = 20)\n",
    "val_data= x_train[i*num_samples:(i+1)*num_samples,:]\n",
    "val_label= train_labels[i * num_samples:(i + 1) * num_samples]\n",
    "train_data=np.concatenate([x_train[:i*num_samples,:],x_train[(i+1)*num_samples:,:]],axis=0)\n",
    "train_label = np.concatenate([train_labels[:i*num_samples], train_labels[(i + 1) * num_samples:]], axis=0)\n",
    "cart2.fit(train_data,train_label)\n",
    "pre_clf=cart2.predict_proba(val_data)\n",
    "analyze(pre_clf,val_label)\n",
    "print('test')\n",
    "pre_cart2=cart2.predict_proba(x_test)\n",
    "analyze(pre_cart2,test_labels)"
   ]
  },
  {
   "cell_type": "code",
   "execution_count": 1680,
   "id": "56aecb97",
   "metadata": {},
   "outputs": [
    {
     "name": "stdout",
     "output_type": "stream",
     "text": [
      "[[ 44  20]\n",
      " [ 49 100]]\n",
      "敏感度TPR：0.473118，特异度TNR：0.833333，ACC：0.676056，AUC：0.663441,MCC：0.331521,F1：0.743494\n",
      "test\n",
      "[[ 55  31]\n",
      " [ 53 127]]\n",
      "敏感度TPR：0.509259，特异度TNR：0.803797，ACC：0.684211，AUC：0.712318,MCC：0.328684,F1：0.751479\n"
     ]
    }
   ],
   "source": [
    "i=3\n",
    "cart3 = DecisionTreeClassifier(max_depth=5,criterion = 'gini',min_samples_split = 10)\n",
    "val_data= x_train[i*num_samples:(i+1)*num_samples,:]\n",
    "val_label= train_labels[i * num_samples:(i + 1) * num_samples]\n",
    "train_data=np.concatenate([x_train[:i*num_samples,:],x_train[(i+1)*num_samples:,:]],axis=0)\n",
    "train_label = np.concatenate([train_labels[:i*num_samples], train_labels[(i + 1) * num_samples:]], axis=0)\n",
    "cart3.fit(train_data,train_label)\n",
    "pre_clf=cart3.predict_proba(val_data)\n",
    "analyze(pre_clf,val_label)\n",
    "print('test')\n",
    "pre_cart3=cart3.predict_proba(x_test)\n",
    "analyze(pre_cart3,test_labels)"
   ]
  },
  {
   "cell_type": "code",
   "execution_count": 1647,
   "id": "2da1fbe9",
   "metadata": {},
   "outputs": [
    {
     "name": "stdout",
     "output_type": "stream",
     "text": [
      "[[40 28]\n",
      " [50 95]]\n",
      "敏感度TPR：0.444444，特异度TNR：0.772358，ACC：0.633803，AUC：0.624345,MCC：0.229720,F1：0.708955\n",
      "test\n",
      "[[ 52  35]\n",
      " [ 56 123]]\n",
      "敏感度TPR：0.481481，特异度TNR：0.778481，ACC：0.657895，AUC：0.662037,MCC：0.272123,F1：0.729970\n"
     ]
    }
   ],
   "source": [
    "i=4\n",
    "cart4 = DecisionTreeClassifier(max_depth=5,criterion = 'gini',min_samples_split = 20)\n",
    "val_data= x_train[i*num_samples:(i+1)*num_samples,:]\n",
    "val_label= train_labels[i * num_samples:(i + 1) * num_samples]\n",
    "train_data=np.concatenate([x_train[:i*num_samples,:],x_train[(i+1)*num_samples:,:]],axis=0)\n",
    "train_label = np.concatenate([train_labels[:i*num_samples], train_labels[(i + 1) * num_samples:]], axis=0)\n",
    "cart4.fit(train_data,train_label)\n",
    "pre_clf=cart4.predict_proba(val_data)\n",
    "analyze(pre_clf,val_label)\n",
    "print('test')\n",
    "pre_cart4=cart4.predict_proba(x_test)\n",
    "analyze(pre_cart4,test_labels)"
   ]
  },
  {
   "cell_type": "code",
   "execution_count": 1777,
   "id": "ef1590fa",
   "metadata": {},
   "outputs": [],
   "source": [
    "rf_4=np.argmax(probarf4,axis=1)\n",
    "clf_2=np.argmax(pre_clf2,axis=1)\n",
    "xg_1=np.argmax(pre_xg1,axis=1)\n",
    "gbm_0=np.argmax(pre_gbm0,axis=1)\n",
    "cart_3=np.argmax(pre_cart3,axis=1)\n",
    "\n"
   ]
  },
  {
   "cell_type": "code",
   "execution_count": 1778,
   "id": "9b9cffd6",
   "metadata": {},
   "outputs": [
    {
     "name": "stdout",
     "output_type": "stream",
     "text": [
      "[[ 60  31]\n",
      " [ 48 127]]\n",
      "0.7030075187969925\n"
     ]
    }
   ],
   "source": [
    "pre=[]\n",
    "for i in range(len(test_labels)):\n",
    "    p=[rf_4[i],clf_2[i],xg_1[i],gbm_0[i],cart_3[i]]\n",
    "    #print(p)\n",
    "    #print(test_labels[i])\n",
    "    n_0=np.count_nonzero(p)\n",
    "    #rint(n_0)\n",
    "    if n_0<3:\n",
    "        pre.append(0)\n",
    "    else:\n",
    "        pre.append(1)\n",
    "m=confusion_matrix(pre,test_labels, labels=[0,1], sample_weight=None)\n",
    "print(m)\n",
    "ACC_test=ACC(pre,test_labels)\n",
    "print(ACC_test)"
   ]
  },
  {
   "cell_type": "code",
   "execution_count": 1779,
   "id": "78b290dd",
   "metadata": {},
   "outputs": [
    {
     "name": "stdout",
     "output_type": "stream",
     "text": [
      "test_all\n",
      "[[ 53  31]\n",
      " [ 55 127]]\n",
      "敏感度TPR：0.490741，特异度TNR：0.803797，ACC：0.676692，AUC：0.778833,MCC：0.311176,F1：0.747059\n"
     ]
    }
   ],
   "source": [
    "print('test_all')\n",
    "probarf_test=(probarf4+pre_clf2+pre_xg1+pre_gbm0+pre_cart3)/5.0\n",
    "#probarf=(probarf1+probarf2+probarf3+probarf4)/5.0\n",
    "aa=analyze(probarf_test,test_labels)"
   ]
  },
  {
   "cell_type": "code",
   "execution_count": null,
   "id": "ab4d171e",
   "metadata": {},
   "outputs": [],
   "source": []
  },
  {
   "cell_type": "code",
   "execution_count": null,
   "id": "5a1cd809",
   "metadata": {},
   "outputs": [],
   "source": []
  },
  {
   "cell_type": "code",
   "execution_count": null,
   "id": "f32ba6b0",
   "metadata": {},
   "outputs": [],
   "source": []
  },
  {
   "cell_type": "code",
   "execution_count": null,
   "id": "887778d2",
   "metadata": {},
   "outputs": [],
   "source": [
    " "
   ]
  },
  {
   "cell_type": "code",
   "execution_count": null,
   "id": "2b6b1676",
   "metadata": {},
   "outputs": [],
   "source": []
  },
  {
   "cell_type": "code",
   "execution_count": null,
   "id": "bed5783f",
   "metadata": {},
   "outputs": [],
   "source": []
  },
  {
   "cell_type": "code",
   "execution_count": 1429,
   "id": "5d1d7e8a",
   "metadata": {},
   "outputs": [
    {
     "name": "stdout",
     "output_type": "stream",
     "text": [
      "test_all\n",
      "[[ 61  34]\n",
      " [ 47 124]]\n",
      "敏感度TPR：0.564815，特异度TNR：0.784810，ACC：0.695489，AUC：0.772855,MCC：0.358330,F1：0.753799\n"
     ]
    }
   ],
   "source": [
    "print('test_all')\n",
    "probarf_test=(probarf0*1+pre_clf2+pre_xg1*1+pre_gbm4*1)/5.0\n",
    "#probarf=(probarf1+probarf2+probarf3+probarf4)/5.0\n",
    "aa=analyze(probarf_test,test_labels)"
   ]
  },
  {
   "cell_type": "code",
   "execution_count": 1399,
   "id": "6629674d",
   "metadata": {},
   "outputs": [
    {
     "name": "stdout",
     "output_type": "stream",
     "text": [
      "test_all\n",
      "[[ 62  32]\n",
      " [ 46 126]]\n",
      "敏感度TPR：0.574074，特异度TNR：0.797468，ACC：0.706767，AUC：0.774672,MCC：0.381699,F1：0.763636\n"
     ]
    }
   ],
   "source": [
    "print('test_all')\n",
    "probarf_test=(probarf4*3+pre_clf2+pre_xg1*1+pre_gbm0*1)/6.0\n",
    "#probarf=(probarf1+probarf2+probarf3+probarf4)/5.0\n",
    "aa=analyze(probarf_test,test_labels)"
   ]
  },
  {
   "cell_type": "code",
   "execution_count": null,
   "id": "4cb38e65",
   "metadata": {},
   "outputs": [],
   "source": []
  },
  {
   "cell_type": "code",
   "execution_count": null,
   "id": "ad425005",
   "metadata": {},
   "outputs": [],
   "source": []
  },
  {
   "cell_type": "code",
   "execution_count": null,
   "id": "a0fa65ad",
   "metadata": {},
   "outputs": [],
   "source": []
  },
  {
   "cell_type": "code",
   "execution_count": null,
   "id": "35f248a0",
   "metadata": {},
   "outputs": [],
   "source": []
  },
  {
   "cell_type": "code",
   "execution_count": null,
   "id": "30ba6cbd",
   "metadata": {},
   "outputs": [],
   "source": []
  },
  {
   "cell_type": "code",
   "execution_count": 1380,
   "id": "2da03581",
   "metadata": {},
   "outputs": [],
   "source": [
    "import matplotlib.pyplot as plt\n",
    "from sklearn.decomposition import PCA"
   ]
  },
  {
   "cell_type": "code",
   "execution_count": 1391,
   "id": "9d425536",
   "metadata": {},
   "outputs": [],
   "source": [
    "pca1 = PCA(n_components=2)\n",
    "newX1 = pca1.fit_transform(x_train) # x_train是降维后的训练集\n",
    "newX2 = pca1.transform(x_test)"
   ]
  },
  {
   "cell_type": "code",
   "execution_count": 1395,
   "id": "f9c211ef",
   "metadata": {},
   "outputs": [
    {
     "data": {
      "text/plain": [
       "Text(0, 0.5, 'PCA2')"
      ]
     },
     "execution_count": 1395,
     "metadata": {},
     "output_type": "execute_result"
    },
    {
     "data": {
      "image/png": "[encoded data removed]",
      "text/plain": [
       "<Figure size 720x504 with 1 Axes>"
      ]
     },
     "metadata": {
      "needs_background": "light"
     },
     "output_type": "display_data"
    }
   ],
   "source": [
    "plt.figure(figsize=(10,7))\n",
    "\n",
    "font2 = {'family' : 'Times New Roman',\n",
    "'weight' : 'bold',\n",
    "'size' : 45,\n",
    "}\n",
    "plt.scatter(newX1[:, 0], newX1[:, 1], alpha=.5, label='train')\n",
    "plt.scatter(newX2[:, 0], newX2[:, 1], alpha=.5, label='test1')\n",
    "#plt.scatter(newX3[:, 0], newX3[:, 1], alpha=.5, label='test2')\n",
    "plt.legend() \n",
    "plt.tick_params(labelsize=15)\n",
    "plt.legend(prop={'family' : 'Times NewRoman', 'size'   : 20})\n",
    "plt.xlabel('PCA1',fontsize=16)\n",
    "plt.ylabel('PCA2',fontsize=16)\n",
    "#plt.show()\n",
    "#plt.savefig('domain2.jpg',dpi=300)"
   ]
  },
  {
   "cell_type": "code",
   "execution_count": null,
   "id": "fdac06fb",
   "metadata": {},
   "outputs": [],
   "source": []
  }
 ],
 "metadata": {
  "kernelspec": {
   "display_name": "Python 3",
   "language": "python",
   "name": "python3"
  },
  "language_info": {
   "codemirror_mode": {
    "name": "ipython",
    "version": 3
   },
   "file_extension": ".py",
   "mimetype": "text/x-python",
   "name": "python",
   "nbconvert_exporter": "python",
   "pygments_lexer": "ipython3",
   "version": "3.7.7"
  }
 },
 "nbformat": 4,
 "nbformat_minor": 5
}
